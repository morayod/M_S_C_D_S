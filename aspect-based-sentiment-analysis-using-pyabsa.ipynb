{
 "cells": [
  {
   "cell_type": "code",
   "execution_count": 1,
   "id": "13066341",
   "metadata": {
    "_cell_guid": "b1076dfc-b9ad-4769-8c92-a6c4dae69d19",
    "_uuid": "8f2839f25d086af736a60e9eeb907d3b93b6e0e5",
    "execution": {
     "iopub.execute_input": "2023-09-09T14:30:18.115256Z",
     "iopub.status.busy": "2023-09-09T14:30:18.114449Z",
     "iopub.status.idle": "2023-09-09T14:30:18.142646Z",
     "shell.execute_reply": "2023-09-09T14:30:18.141389Z"
    },
    "papermill": {
     "duration": 0.043828,
     "end_time": "2023-09-09T14:30:18.145918",
     "exception": false,
     "start_time": "2023-09-09T14:30:18.102090",
     "status": "completed"
    },
    "tags": []
   },
   "outputs": [
    {
     "name": "stdout",
     "output_type": "stream",
     "text": [
      "/kaggle/input/spotify-app-reviews-2022/reviews.csv\n",
      "/kaggle/input/amazon-alexa-reviews/amazon_alexa.tsv\n"
     ]
    }
   ],
   "source": [
    "# This Python 3 environment comes with many helpful analytics libraries installed\n",
    "# It is defined by the kaggle/python Docker image: https://github.com/kaggle/docker-python\n",
    "# For example, here's several helpful packages to load\n",
    "\n",
    "import numpy as np # linear algebra\n",
    "import pandas as pd # data processing, CSV file I/O (e.g. pd.read_csv)\n",
    "\n",
    "# Input data files are available in the read-only \"../input/\" directory\n",
    "# For example, running this (by clicking run or pressing Shift+Enter) will list all files under the input directory\n",
    "\n",
    "import os\n",
    "for dirname, _, filenames in os.walk('/kaggle/input'):\n",
    "    for filename in filenames:\n",
    "        print(os.path.join(dirname, filename))\n",
    "\n",
    "# You can write up to 20GB to the current directory (/kaggle/working/) that gets preserved as output when you create a version using \"Save & Run All\" \n",
    "# You can also write temporary files to /kaggle/temp/, but they won't be saved outside of the current session"
   ]
  },
  {
   "cell_type": "code",
   "execution_count": 2,
   "id": "15d19750",
   "metadata": {
    "execution": {
     "iopub.execute_input": "2023-09-09T14:30:18.165443Z",
     "iopub.status.busy": "2023-09-09T14:30:18.164990Z",
     "iopub.status.idle": "2023-09-09T14:31:30.920378Z",
     "shell.execute_reply": "2023-09-09T14:31:30.919099Z"
    },
    "papermill": {
     "duration": 72.768712,
     "end_time": "2023-09-09T14:31:30.923493",
     "exception": false,
     "start_time": "2023-09-09T14:30:18.154781",
     "status": "completed"
    },
    "tags": []
   },
   "outputs": [
    {
     "name": "stdout",
     "output_type": "stream",
     "text": [
      "\u001b[31mERROR: pip's dependency resolver does not currently take into account all the packages that are installed. This behaviour is the source of the following dependency conflicts.\r\n",
      "tensorflow-io 0.21.0 requires tensorflow-io-gcs-filesystem==0.21.0, which is not installed.\r\n",
      "tensorflow 2.6.4 requires h5py~=3.1.0, but you have h5py 3.7.0 which is incompatible.\r\n",
      "tensorflow 2.6.4 requires numpy~=1.19.2, but you have numpy 1.21.6 which is incompatible.\r\n",
      "tensorflow 2.6.4 requires tensorboard<2.7,>=2.6.0, but you have tensorboard 2.10.0 which is incompatible.\r\n",
      "tensorflow 2.6.4 requires typing-extensions<3.11,>=3.7, but you have typing-extensions 4.1.1 which is incompatible.\r\n",
      "tensorflow-transform 1.9.0 requires pyarrow<6,>=1, but you have pyarrow 8.0.0 which is incompatible.\r\n",
      "tensorflow-transform 1.9.0 requires tensorflow!=2.0.*,!=2.1.*,!=2.2.*,!=2.3.*,!=2.4.*,!=2.5.*,!=2.6.*,!=2.7.*,!=2.8.*,<2.10,>=1.15.5, but you have tensorflow 2.6.4 which is incompatible.\r\n",
      "tensorflow-serving-api 2.9.0 requires tensorflow<3,>=2.9.0, but you have tensorflow 2.6.4 which is incompatible.\r\n",
      "pandas-profiling 3.1.0 requires markupsafe~=2.0.1, but you have markupsafe 2.1.1 which is incompatible.\r\n",
      "flax 0.6.0 requires rich~=11.1, but you have rich 12.1.0 which is incompatible.\r\n",
      "flake8 4.0.1 requires importlib-metadata<4.3; python_version < \"3.8\", but you have importlib-metadata 4.12.0 which is incompatible.\r\n",
      "apache-beam 2.40.0 requires dill<0.3.2,>=0.3.1.1, but you have dill 0.3.5.1 which is incompatible.\r\n",
      "apache-beam 2.40.0 requires pyarrow<8.0.0,>=0.15.1, but you have pyarrow 8.0.0 which is incompatible.\r\n",
      "allennlp 2.10.0 requires protobuf==3.20.0, but you have protobuf 3.19.4 which is incompatible.\r\n",
      "aiobotocore 2.4.0 requires botocore<1.27.60,>=1.27.59, but you have botocore 1.27.72 which is incompatible.\u001b[0m\u001b[31m\r\n",
      "\u001b[0m\u001b[31mERROR: pip's dependency resolver does not currently take into account all the packages that are installed. This behaviour is the source of the following dependency conflicts.\r\n",
      "cached-path 1.1.5 requires huggingface-hub<0.9.0,>=0.8.1, but you have huggingface-hub 0.16.4 which is incompatible.\r\n",
      "allennlp 2.10.0 requires protobuf==3.20.0, but you have protobuf 3.19.4 which is incompatible.\r\n",
      "allennlp 2.10.0 requires transformers<4.21,>=4.1, but you have transformers 4.29.0 which is incompatible.\u001b[0m\u001b[31m\r\n",
      "\u001b[0m"
     ]
    }
   ],
   "source": [
    "!pip install pyabsa --quiet --root-user-action=ignore\n",
    "!pip install transformers==4.29.0 --quiet --root-user-action=ignore\n"
   ]
  },
  {
   "cell_type": "markdown",
   "id": "3a9f4117",
   "metadata": {
    "papermill": {
     "duration": 0.008422,
     "end_time": "2023-09-09T14:31:30.941205",
     "exception": false,
     "start_time": "2023-09-09T14:31:30.932783",
     "status": "completed"
    },
    "tags": []
   },
   "source": [
    "### Importing Required Libraries"
   ]
  },
  {
   "cell_type": "code",
   "execution_count": 3,
   "id": "3287e6fa",
   "metadata": {
    "execution": {
     "iopub.execute_input": "2023-09-09T14:31:30.960676Z",
     "iopub.status.busy": "2023-09-09T14:31:30.960224Z",
     "iopub.status.idle": "2023-09-09T14:31:56.339685Z",
     "shell.execute_reply": "2023-09-09T14:31:56.337940Z"
    },
    "papermill": {
     "duration": 25.392917,
     "end_time": "2023-09-09T14:31:56.342801",
     "exception": false,
     "start_time": "2023-09-09T14:31:30.949884",
     "status": "completed"
    },
    "tags": []
   },
   "outputs": [
    {
     "name": "stderr",
     "output_type": "stream",
     "text": [
      "/bin/sh: 1: nvidia-smi: not found\n"
     ]
    },
    {
     "name": "stdout",
     "output_type": "stream",
     "text": [
      "No CUDA GPU found in your device\n"
     ]
    },
    {
     "name": "stderr",
     "output_type": "stream",
     "text": [
      "/opt/conda/lib/python3.7/site-packages/botocore/httpsession.py:41: DeprecationWarning: 'urllib3.contrib.pyopenssl' module is deprecated and will be removed in a future release of urllib3 2.x. Read more in this issue: https://github.com/urllib3/urllib3/issues/2680\n",
      "  from urllib3.contrib.pyopenssl import orig_util_SSLContext as SSLContext\n"
     ]
    },
    {
     "name": "stdout",
     "output_type": "stream",
     "text": [
      "Version 0.8.7.4 of metric_visualizer is outdated. Version 0.9.9 was released Tuesday July 04, 2023.\n"
     ]
    },
    {
     "name": "stderr",
     "output_type": "stream",
     "text": [
      "/opt/conda/lib/python3.7/site-packages/tensorflow/python/framework/dtypes.py:585: DeprecationWarning: `np.object` is a deprecated alias for the builtin `object`. To silence this warning, use `object` by itself. Doing this will not modify any behavior and is safe. \n",
      "Deprecated in NumPy 1.20; for more details and guidance: https://numpy.org/devdocs/release/1.20.0-notes.html#deprecations\n",
      "  np.object,\n",
      "/opt/conda/lib/python3.7/site-packages/tensorflow/python/framework/dtypes.py:637: DeprecationWarning: `np.bool` is a deprecated alias for the builtin `bool`. To silence this warning, use `bool` by itself. Doing this will not modify any behavior and is safe. If you specifically wanted the numpy scalar type, use `np.bool_` here.\n",
      "Deprecated in NumPy 1.20; for more details and guidance: https://numpy.org/devdocs/release/1.20.0-notes.html#deprecations\n",
      "  np.bool,\n",
      "/opt/conda/lib/python3.7/site-packages/tensorflow/python/framework/tensor_util.py:108: DeprecationWarning: `np.object` is a deprecated alias for the builtin `object`. To silence this warning, use `object` by itself. Doing this will not modify any behavior and is safe. \n",
      "Deprecated in NumPy 1.20; for more details and guidance: https://numpy.org/devdocs/release/1.20.0-notes.html#deprecations\n",
      "  np.object:\n",
      "/opt/conda/lib/python3.7/site-packages/tensorflow/python/framework/tensor_util.py:110: DeprecationWarning: `np.bool` is a deprecated alias for the builtin `bool`. To silence this warning, use `bool` by itself. Doing this will not modify any behavior and is safe. If you specifically wanted the numpy scalar type, use `np.bool_` here.\n",
      "Deprecated in NumPy 1.20; for more details and guidance: https://numpy.org/devdocs/release/1.20.0-notes.html#deprecations\n",
      "  np.bool:\n",
      "/opt/conda/lib/python3.7/site-packages/tensorflow/python/autograph/impl/api.py:22: DeprecationWarning: the imp module is deprecated in favour of importlib; see the module's documentation for alternative uses\n",
      "  import imp\n",
      "/opt/conda/lib/python3.7/site-packages/tensorflow/python/ops/numpy_ops/np_random.py:110: DeprecationWarning: `np.int` is a deprecated alias for the builtin `int`. To silence this warning, use `int` by itself. Doing this will not modify any behavior and is safe. When replacing `np.int`, you may wish to use e.g. `np.int64` or `np.int32` to specify the precision. If you wish to review your current use, check the release note link for additional information.\n",
      "Deprecated in NumPy 1.20; for more details and guidance: https://numpy.org/devdocs/release/1.20.0-notes.html#deprecations\n",
      "  def randint(low, high=None, size=None, dtype=onp.int):  # pylint: disable=missing-function-docstring\n",
      "/opt/conda/lib/python3.7/site-packages/keras_preprocessing/image/utils.py:23: DeprecationWarning: NEAREST is deprecated and will be removed in Pillow 10 (2023-07-01). Use Resampling.NEAREST or Dither.NONE instead.\n",
      "  'nearest': pil_image.NEAREST,\n",
      "/opt/conda/lib/python3.7/site-packages/keras_preprocessing/image/utils.py:24: DeprecationWarning: BILINEAR is deprecated and will be removed in Pillow 10 (2023-07-01). Use Resampling.BILINEAR instead.\n",
      "  'bilinear': pil_image.BILINEAR,\n",
      "/opt/conda/lib/python3.7/site-packages/keras_preprocessing/image/utils.py:25: DeprecationWarning: BICUBIC is deprecated and will be removed in Pillow 10 (2023-07-01). Use Resampling.BICUBIC instead.\n",
      "  'bicubic': pil_image.BICUBIC,\n",
      "/opt/conda/lib/python3.7/site-packages/keras_preprocessing/image/utils.py:28: DeprecationWarning: HAMMING is deprecated and will be removed in Pillow 10 (2023-07-01). Use Resampling.HAMMING instead.\n",
      "  if hasattr(pil_image, 'HAMMING'):\n",
      "/opt/conda/lib/python3.7/site-packages/keras_preprocessing/image/utils.py:30: DeprecationWarning: BOX is deprecated and will be removed in Pillow 10 (2023-07-01). Use Resampling.BOX instead.\n",
      "  if hasattr(pil_image, 'BOX'):\n",
      "/opt/conda/lib/python3.7/site-packages/keras_preprocessing/image/utils.py:33: DeprecationWarning: LANCZOS is deprecated and will be removed in Pillow 10 (2023-07-01). Use Resampling.LANCZOS instead.\n",
      "  if hasattr(pil_image, 'LANCZOS'):\n",
      "/opt/conda/lib/python3.7/site-packages/mxnet/numpy/utils.py:37: DeprecationWarning: `np.bool` is a deprecated alias for the builtin `bool`. To silence this warning, use `bool` by itself. Doing this will not modify any behavior and is safe. If you specifically wanted the numpy scalar type, use `np.bool_` here.\n",
      "Deprecated in NumPy 1.20; for more details and guidance: https://numpy.org/devdocs/release/1.20.0-notes.html#deprecations\n",
      "  bool = onp.bool\n",
      "/opt/conda/lib/python3.7/site-packages/mxnet/numpy/fallback.py:143: DeprecationWarning: In accordance with NEP 32, the function mirr was removed from NumPy version 1.20.  A replacement for this function is available in the numpy_financial library: https://pypi.org/project/numpy-financial\n",
      "  mirr = onp.mirr\n",
      "/opt/conda/lib/python3.7/site-packages/mxnet/numpy/fallback.py:160: DeprecationWarning: In accordance with NEP 32, the function npv was removed from NumPy version 1.20.  A replacement for this function is available in the numpy_financial library: https://pypi.org/project/numpy-financial\n",
      "  npv = onp.npv\n",
      "/opt/conda/lib/python3.7/site-packages/mxnet/numpy/fallback.py:164: DeprecationWarning: In accordance with NEP 32, the function pmt was removed from NumPy version 1.20.  A replacement for this function is available in the numpy_financial library: https://pypi.org/project/numpy-financial\n",
      "  pmt = onp.pmt\n",
      "/opt/conda/lib/python3.7/site-packages/mxnet/numpy/fallback.py:173: DeprecationWarning: In accordance with NEP 32, the function ppmt was removed from NumPy version 1.20.  A replacement for this function is available in the numpy_financial library: https://pypi.org/project/numpy-financial\n",
      "  ppmt = onp.ppmt\n",
      "/opt/conda/lib/python3.7/site-packages/mxnet/numpy/fallback.py:176: DeprecationWarning: In accordance with NEP 32, the function pv was removed from NumPy version 1.20.  A replacement for this function is available in the numpy_financial library: https://pypi.org/project/numpy-financial\n",
      "  pv = onp.pv\n",
      "/opt/conda/lib/python3.7/site-packages/mxnet/numpy/fallback.py:177: DeprecationWarning: In accordance with NEP 32, the function rate was removed from NumPy version 1.20.  A replacement for this function is available in the numpy_financial library: https://pypi.org/project/numpy-financial\n",
      "  rate = onp.rate\n"
     ]
    },
    {
     "name": "stdout",
     "output_type": "stream",
     "text": [
      "[2023-09-09 14:31:55] (2.0.27) \u001b[31mPyABSA(2.0.27): If your code crashes on Colab, please use the GPU runtime. Then run \"pip install pyabsa[dev] -U\" and restart the kernel.\n",
      "Or if it does not work, you can use v1.16.27\n",
      "\n",
      "\n",
      "\n",
      "\n",
      "WARNING: When you fails to load a checkpoint, e.g., Unexpected key(s),\n",
      "Try to downgrade transformers<=4.29.0.\n",
      "\n",
      "\n",
      "\n",
      "\u001b[0m\n"
     ]
    }
   ],
   "source": [
    "from pyabsa import ATEPCCheckpointManager\n",
    "from pyabsa import available_checkpoints\n",
    "import re \n",
    "from nltk.corpus import stopwords\n",
    "import matplotlib.pyplot as plt\n",
    "import warnings \n",
    "warnings.filterwarnings(\"ignore\")"
   ]
  },
  {
   "cell_type": "code",
   "execution_count": 4,
   "id": "d422a0c2",
   "metadata": {
    "execution": {
     "iopub.execute_input": "2023-09-09T14:31:56.368398Z",
     "iopub.status.busy": "2023-09-09T14:31:56.365555Z",
     "iopub.status.idle": "2023-09-09T14:31:56.800212Z",
     "shell.execute_reply": "2023-09-09T14:31:56.798763Z"
    },
    "papermill": {
     "duration": 0.449773,
     "end_time": "2023-09-09T14:31:56.803167",
     "exception": false,
     "start_time": "2023-09-09T14:31:56.353394",
     "status": "completed"
    },
    "tags": []
   },
   "outputs": [],
   "source": [
    "data = pd.read_csv(\"/kaggle/input/spotify-app-reviews-2022/reviews.csv\")"
   ]
  },
  {
   "cell_type": "code",
   "execution_count": 5,
   "id": "b7bce49f",
   "metadata": {
    "execution": {
     "iopub.execute_input": "2023-09-09T14:31:56.825108Z",
     "iopub.status.busy": "2023-09-09T14:31:56.824636Z",
     "iopub.status.idle": "2023-09-09T14:31:56.846747Z",
     "shell.execute_reply": "2023-09-09T14:31:56.845256Z"
    },
    "papermill": {
     "duration": 0.036631,
     "end_time": "2023-09-09T14:31:56.849546",
     "exception": false,
     "start_time": "2023-09-09T14:31:56.812915",
     "status": "completed"
    },
    "tags": []
   },
   "outputs": [],
   "source": [
    "data = data.drop(['Time_submitted','Total_thumbsup','Reply'],axis=1)"
   ]
  },
  {
   "cell_type": "code",
   "execution_count": 6,
   "id": "6ee6e52f",
   "metadata": {
    "execution": {
     "iopub.execute_input": "2023-09-09T14:31:56.871106Z",
     "iopub.status.busy": "2023-09-09T14:31:56.870593Z",
     "iopub.status.idle": "2023-09-09T14:31:56.891435Z",
     "shell.execute_reply": "2023-09-09T14:31:56.890119Z"
    },
    "papermill": {
     "duration": 0.035021,
     "end_time": "2023-09-09T14:31:56.894376",
     "exception": false,
     "start_time": "2023-09-09T14:31:56.859355",
     "status": "completed"
    },
    "tags": []
   },
   "outputs": [
    {
     "data": {
      "text/html": [
       "<div>\n",
       "<style scoped>\n",
       "    .dataframe tbody tr th:only-of-type {\n",
       "        vertical-align: middle;\n",
       "    }\n",
       "\n",
       "    .dataframe tbody tr th {\n",
       "        vertical-align: top;\n",
       "    }\n",
       "\n",
       "    .dataframe thead th {\n",
       "        text-align: right;\n",
       "    }\n",
       "</style>\n",
       "<table border=\"1\" class=\"dataframe\">\n",
       "  <thead>\n",
       "    <tr style=\"text-align: right;\">\n",
       "      <th></th>\n",
       "      <th>Review</th>\n",
       "      <th>Rating</th>\n",
       "    </tr>\n",
       "  </thead>\n",
       "  <tbody>\n",
       "    <tr>\n",
       "      <th>0</th>\n",
       "      <td>Great music service, the audio is high quality...</td>\n",
       "      <td>5</td>\n",
       "    </tr>\n",
       "    <tr>\n",
       "      <th>1</th>\n",
       "      <td>Please ignore previous negative rating. This a...</td>\n",
       "      <td>5</td>\n",
       "    </tr>\n",
       "    <tr>\n",
       "      <th>2</th>\n",
       "      <td>This pop-up \"Get the best Spotify experience o...</td>\n",
       "      <td>4</td>\n",
       "    </tr>\n",
       "    <tr>\n",
       "      <th>3</th>\n",
       "      <td>Really buggy and terrible to use as of recently</td>\n",
       "      <td>1</td>\n",
       "    </tr>\n",
       "    <tr>\n",
       "      <th>4</th>\n",
       "      <td>Dear Spotify why do I get songs that I didn't ...</td>\n",
       "      <td>1</td>\n",
       "    </tr>\n",
       "  </tbody>\n",
       "</table>\n",
       "</div>"
      ],
      "text/plain": [
       "                                              Review  Rating\n",
       "0  Great music service, the audio is high quality...       5\n",
       "1  Please ignore previous negative rating. This a...       5\n",
       "2  This pop-up \"Get the best Spotify experience o...       4\n",
       "3    Really buggy and terrible to use as of recently       1\n",
       "4  Dear Spotify why do I get songs that I didn't ...       1"
      ]
     },
     "execution_count": 6,
     "metadata": {},
     "output_type": "execute_result"
    }
   ],
   "source": [
    "data.head()"
   ]
  },
  {
   "cell_type": "markdown",
   "id": "3b6bcb51",
   "metadata": {
    "papermill": {
     "duration": 0.00979,
     "end_time": "2023-09-09T14:31:56.914351",
     "exception": false,
     "start_time": "2023-09-09T14:31:56.904561",
     "status": "completed"
    },
    "tags": []
   },
   "source": [
    "### Reviewing and cleaning of data"
   ]
  },
  {
   "cell_type": "code",
   "execution_count": 7,
   "id": "86f42025",
   "metadata": {
    "execution": {
     "iopub.execute_input": "2023-09-09T14:31:56.937841Z",
     "iopub.status.busy": "2023-09-09T14:31:56.937062Z",
     "iopub.status.idle": "2023-09-09T14:31:56.951582Z",
     "shell.execute_reply": "2023-09-09T14:31:56.950239Z"
    },
    "papermill": {
     "duration": 0.030049,
     "end_time": "2023-09-09T14:31:56.954372",
     "exception": false,
     "start_time": "2023-09-09T14:31:56.924323",
     "status": "completed"
    },
    "tags": []
   },
   "outputs": [
    {
     "data": {
      "text/plain": [
       "5    22095\n",
       "1    17653\n",
       "4     7842\n",
       "2     7118\n",
       "3     6886\n",
       "Name: Rating, dtype: int64"
      ]
     },
     "execution_count": 7,
     "metadata": {},
     "output_type": "execute_result"
    }
   ],
   "source": [
    "data['Rating'].value_counts()"
   ]
  },
  {
   "cell_type": "code",
   "execution_count": 8,
   "id": "2df4aac6",
   "metadata": {
    "execution": {
     "iopub.execute_input": "2023-09-09T14:31:56.977155Z",
     "iopub.status.busy": "2023-09-09T14:31:56.976292Z",
     "iopub.status.idle": "2023-09-09T14:31:56.991098Z",
     "shell.execute_reply": "2023-09-09T14:31:56.990080Z"
    },
    "papermill": {
     "duration": 0.029563,
     "end_time": "2023-09-09T14:31:56.994106",
     "exception": false,
     "start_time": "2023-09-09T14:31:56.964543",
     "status": "completed"
    },
    "tags": []
   },
   "outputs": [],
   "source": [
    "STOPWORDS = stopwords.words(\"english\")"
   ]
  },
  {
   "cell_type": "code",
   "execution_count": 9,
   "id": "7b6ace51",
   "metadata": {
    "execution": {
     "iopub.execute_input": "2023-09-09T14:31:57.017515Z",
     "iopub.status.busy": "2023-09-09T14:31:57.017046Z",
     "iopub.status.idle": "2023-09-09T14:31:57.023989Z",
     "shell.execute_reply": "2023-09-09T14:31:57.022527Z"
    },
    "papermill": {
     "duration": 0.021621,
     "end_time": "2023-09-09T14:31:57.026697",
     "exception": false,
     "start_time": "2023-09-09T14:31:57.005076",
     "status": "completed"
    },
    "tags": []
   },
   "outputs": [],
   "source": [
    "def clean(x):\n",
    "    x =  x.lower()\n",
    "    x  =  re.sub(\"[^\\w\\d]\",\" \",x)\n",
    "    x = \" \".join(t for t in x.split() if t not in STOPWORDS)\n",
    "    return x"
   ]
  },
  {
   "cell_type": "code",
   "execution_count": 10,
   "id": "372a3b1a",
   "metadata": {
    "execution": {
     "iopub.execute_input": "2023-09-09T14:31:57.049975Z",
     "iopub.status.busy": "2023-09-09T14:31:57.049494Z",
     "iopub.status.idle": "2023-09-09T14:32:03.376602Z",
     "shell.execute_reply": "2023-09-09T14:32:03.375320Z"
    },
    "papermill": {
     "duration": 6.342546,
     "end_time": "2023-09-09T14:32:03.379735",
     "exception": false,
     "start_time": "2023-09-09T14:31:57.037189",
     "status": "completed"
    },
    "tags": []
   },
   "outputs": [],
   "source": [
    "data['Review'] = data['Review'].apply(lambda x : clean(x))"
   ]
  },
  {
   "cell_type": "code",
   "execution_count": 11,
   "id": "91fef969",
   "metadata": {
    "execution": {
     "iopub.execute_input": "2023-09-09T14:32:03.414134Z",
     "iopub.status.busy": "2023-09-09T14:32:03.413661Z",
     "iopub.status.idle": "2023-09-09T14:32:03.427160Z",
     "shell.execute_reply": "2023-09-09T14:32:03.425956Z"
    },
    "papermill": {
     "duration": 0.029228,
     "end_time": "2023-09-09T14:32:03.429522",
     "exception": false,
     "start_time": "2023-09-09T14:32:03.400294",
     "status": "completed"
    },
    "tags": []
   },
   "outputs": [
    {
     "data": {
      "text/html": [
       "<div>\n",
       "<style scoped>\n",
       "    .dataframe tbody tr th:only-of-type {\n",
       "        vertical-align: middle;\n",
       "    }\n",
       "\n",
       "    .dataframe tbody tr th {\n",
       "        vertical-align: top;\n",
       "    }\n",
       "\n",
       "    .dataframe thead th {\n",
       "        text-align: right;\n",
       "    }\n",
       "</style>\n",
       "<table border=\"1\" class=\"dataframe\">\n",
       "  <thead>\n",
       "    <tr style=\"text-align: right;\">\n",
       "      <th></th>\n",
       "      <th>Review</th>\n",
       "      <th>Rating</th>\n",
       "    </tr>\n",
       "  </thead>\n",
       "  <tbody>\n",
       "    <tr>\n",
       "      <th>0</th>\n",
       "      <td>great music service audio high quality app eas...</td>\n",
       "      <td>5</td>\n",
       "    </tr>\n",
       "    <tr>\n",
       "      <th>1</th>\n",
       "      <td>please ignore previous negative rating app sup...</td>\n",
       "      <td>5</td>\n",
       "    </tr>\n",
       "    <tr>\n",
       "      <th>2</th>\n",
       "      <td>pop get best spotify experience android 12 ann...</td>\n",
       "      <td>4</td>\n",
       "    </tr>\n",
       "    <tr>\n",
       "      <th>3</th>\n",
       "      <td>really buggy terrible use recently</td>\n",
       "      <td>1</td>\n",
       "    </tr>\n",
       "    <tr>\n",
       "      <th>4</th>\n",
       "      <td>dear spotify get songs put playlist shuffle play</td>\n",
       "      <td>1</td>\n",
       "    </tr>\n",
       "  </tbody>\n",
       "</table>\n",
       "</div>"
      ],
      "text/plain": [
       "                                              Review  Rating\n",
       "0  great music service audio high quality app eas...       5\n",
       "1  please ignore previous negative rating app sup...       5\n",
       "2  pop get best spotify experience android 12 ann...       4\n",
       "3                 really buggy terrible use recently       1\n",
       "4   dear spotify get songs put playlist shuffle play       1"
      ]
     },
     "execution_count": 11,
     "metadata": {},
     "output_type": "execute_result"
    }
   ],
   "source": [
    "data.head()"
   ]
  },
  {
   "cell_type": "code",
   "execution_count": 12,
   "id": "2ea1ee7c",
   "metadata": {
    "execution": {
     "iopub.execute_input": "2023-09-09T14:32:03.451944Z",
     "iopub.status.busy": "2023-09-09T14:32:03.451509Z",
     "iopub.status.idle": "2023-09-09T14:32:03.460952Z",
     "shell.execute_reply": "2023-09-09T14:32:03.459642Z"
    },
    "papermill": {
     "duration": 0.02374,
     "end_time": "2023-09-09T14:32:03.463494",
     "exception": false,
     "start_time": "2023-09-09T14:32:03.439754",
     "status": "completed"
    },
    "tags": []
   },
   "outputs": [
    {
     "data": {
      "text/plain": [
       "0    great music service audio high quality app eas...\n",
       "1    please ignore previous negative rating app sup...\n",
       "2    pop get best spotify experience android 12 ann...\n",
       "3                   really buggy terrible use recently\n",
       "4     dear spotify get songs put playlist shuffle play\n",
       "5    player controls sometimes disappear reason app...\n",
       "6        love selection lyrics provided song listening\n",
       "7    still extremely slow changing storage external...\n",
       "8    great app best mp3 music app ever used one pro...\n",
       "9    deleting app following reasons app failing bus...\n",
       "Name: Review, dtype: object"
      ]
     },
     "execution_count": 12,
     "metadata": {},
     "output_type": "execute_result"
    }
   ],
   "source": [
    "data['Review'][0:10]"
   ]
  },
  {
   "cell_type": "code",
   "execution_count": 13,
   "id": "4670afba",
   "metadata": {
    "execution": {
     "iopub.execute_input": "2023-09-09T14:32:03.486235Z",
     "iopub.status.busy": "2023-09-09T14:32:03.485726Z",
     "iopub.status.idle": "2023-09-09T14:32:03.794609Z",
     "shell.execute_reply": "2023-09-09T14:32:03.793213Z"
    },
    "papermill": {
     "duration": 0.323524,
     "end_time": "2023-09-09T14:32:03.797466",
     "exception": false,
     "start_time": "2023-09-09T14:32:03.473942",
     "status": "completed"
    },
    "tags": []
   },
   "outputs": [
    {
     "data": {
      "text/plain": [
       "(array([17653.,     0.,  7118.,     0.,     0.,  6886.,     0.,  7842.,\n",
       "            0., 22095.]),\n",
       " array([1. , 1.4, 1.8, 2.2, 2.6, 3. , 3.4, 3.8, 4.2, 4.6, 5. ]),\n",
       " <BarContainer object of 10 artists>)"
      ]
     },
     "execution_count": 13,
     "metadata": {},
     "output_type": "execute_result"
    },
    {
     "data": {
      "image/png": "[encoded data removed]",
      "text/plain": [
       "<Figure size 432x288 with 1 Axes>"
      ]
     },
     "metadata": {
      "needs_background": "light"
     },
     "output_type": "display_data"
    }
   ],
   "source": [
    "plt.hist(data['Rating'])"
   ]
  },
  {
   "cell_type": "code",
   "execution_count": 14,
   "id": "dcb0bd05",
   "metadata": {
    "execution": {
     "iopub.execute_input": "2023-09-09T14:32:03.821621Z",
     "iopub.status.busy": "2023-09-09T14:32:03.821127Z",
     "iopub.status.idle": "2023-09-09T14:32:03.830618Z",
     "shell.execute_reply": "2023-09-09T14:32:03.829416Z"
    },
    "papermill": {
     "duration": 0.024472,
     "end_time": "2023-09-09T14:32:03.833102",
     "exception": false,
     "start_time": "2023-09-09T14:32:03.808630",
     "status": "completed"
    },
    "tags": []
   },
   "outputs": [],
   "source": [
    "text =list(data['Review'].values) # Taking Only 5 sentences"
   ]
  },
  {
   "cell_type": "code",
   "execution_count": 15,
   "id": "dd07e4cb",
   "metadata": {
    "execution": {
     "iopub.execute_input": "2023-09-09T14:32:03.856892Z",
     "iopub.status.busy": "2023-09-09T14:32:03.856433Z",
     "iopub.status.idle": "2023-09-09T14:32:03.863196Z",
     "shell.execute_reply": "2023-09-09T14:32:03.861969Z"
    },
    "papermill": {
     "duration": 0.021394,
     "end_time": "2023-09-09T14:32:03.865746",
     "exception": false,
     "start_time": "2023-09-09T14:32:03.844352",
     "status": "completed"
    },
    "tags": []
   },
   "outputs": [],
   "source": [
    "text = list(data['Review'][0:100])"
   ]
  },
  {
   "cell_type": "code",
   "execution_count": 16,
   "id": "a08acc72",
   "metadata": {
    "execution": {
     "iopub.execute_input": "2023-09-09T14:32:03.889670Z",
     "iopub.status.busy": "2023-09-09T14:32:03.889240Z",
     "iopub.status.idle": "2023-09-09T14:32:03.899111Z",
     "shell.execute_reply": "2023-09-09T14:32:03.897939Z"
    },
    "papermill": {
     "duration": 0.02499,
     "end_time": "2023-09-09T14:32:03.901680",
     "exception": false,
     "start_time": "2023-09-09T14:32:03.876690",
     "status": "completed"
    },
    "tags": []
   },
   "outputs": [
    {
     "data": {
      "text/plain": [
       "['great music service audio high quality app easy use also quick friendly support',\n",
       " 'please ignore previous negative rating app super great give five stars',\n",
       " 'pop get best spotify experience android 12 annoying please let get rid',\n",
       " 'really buggy terrible use recently',\n",
       " 'dear spotify get songs put playlist shuffle play',\n",
       " 'player controls sometimes disappear reason app restart forgets playing fixes issue',\n",
       " 'love selection lyrics provided song listening',\n",
       " 'still extremely slow changing storage external sd card convinced done purpose spotify knows issue done nothing solve time changed sd cards faster read write speeds samsung brand please add like song never appear searches playlists',\n",
       " 'great app best mp3 music app ever used one problem play songs find songs despite app wonderful recommend best',\n",
       " 'deleting app following reasons app failing business model whether streaming services like consumer want pay music fully 6 ads successively upon logging single song much closed app ad number 6 patient ways profit already peaked left decline',\n",
       " 'love spotify usually app best others stated control buttons disappear podcasts stop reason fixed deleting reinstalling app first world problems sure highly annoying nonetheless especially paying prime',\n",
       " 'play spotify wifi',\n",
       " 'amazon premium music family package good everyone could listen whatever liked respective alexas rooms asking play problem spotify premium family alexa integration poor like spotify stops playing time play different alexa devices time asking integration better',\n",
       " 'worst app always says offline never showed song podcast',\n",
       " 'hav music like super',\n",
       " 'improve ia recommend songs find similar songs best music app youtube better everything else spotify king',\n",
       " 'android user loads glitches app player bar disappears shuffle button missing sort please',\n",
       " 'listen downloaded playlist offline point feature disappointed',\n",
       " 'always crashing unable play stop working everytime use',\n",
       " 'know ads cost free use yes thats right 3 ads straight back back like 1 hlaf minutes sometimes think little much even volume increases ads',\n",
       " 'always favorite platform listen music like subscribe alot things one must',\n",
       " 'voice sweet hearable',\n",
       " 'logged acc tried open log open see logo',\n",
       " 'usually love app problems everyone else reporting random pauses stops playing restart currently view song podcast currently playing pause skip back forth fairly unusable stage acceptable paid service',\n",
       " 'amazing music experience',\n",
       " 'like everything like listen commercial even better even like songs wanting knowing name brought thanks spotify',\n",
       " 'jammin hyuh old school hardcore thrash heard years return youth yes please',\n",
       " 'cant listen downloaded stuff offline',\n",
       " 'app show internet available phone wifi data working already fred adds happens time want search song',\n",
       " 'everything perfect add light theme',\n",
       " 'option delete song album option download one track album option shuffle music library without creating playlist liking music',\n",
       " 'best music app ever seen',\n",
       " 'wow sudden login work even though 100 positive correct morning app asks login happened obviously problems found email account telling change password suspicious behaviour yeah logging spotify xbox suspicious thanks stress morning need renewing way teaching lesson',\n",
       " 'unable use ph gets downloaded unable log',\n",
       " 'plz remove adds ther continuously 2 3 adds list remove 2 adds give 1 adds',\n",
       " 'liked songs play offline helps signal problems',\n",
       " 'sometimes try listen playlist play first song try go different one goes back first one little weird',\n",
       " 'good app listening music',\n",
       " 'commercials adds need wifi use satellite radio station pick least looks',\n",
       " 'wide range songs collection',\n",
       " 'deal compared desktop version inferior ability play songs bare barely free need said think made point clear enough',\n",
       " 'spotify awesome love obscure artist think fingertips well easy access newer things update lost star constantly asking review already done',\n",
       " 'best app stream music',\n",
       " 'account glitching logged try fix let log back shows logo never sign screen',\n",
       " 'everything go open app last week play bar go open shuts right back',\n",
       " 'lost download button download playlists',\n",
       " 'love app style music selection specific',\n",
       " 'pretty good apps better quality musics',\n",
       " 'videoke feature show device',\n",
       " 'love features app one thing bit expensive month subcription 9 90',\n",
       " 'podcasts becoming nightmare trying get rid podcasts app ridiculous stupid things home page click interested till blue face keep throwing spam casts',\n",
       " 'best birthday present ever received baby brother listen something least everyday happy selection christian artists music love finding new artists let listening great podcasts thank much wonderful app',\n",
       " 'downside rotate songs one month listen great song next month maybe',\n",
       " 'sound quality really good listen favourite songs anytime anywhere without disturbance really good experience loved app alot keep providing us best service',\n",
       " 'keeps cutting showing song playing',\n",
       " 'unuser friendly compared ipad pc',\n",
       " 'paying customer nothing say spotify perfecto',\n",
       " 'much adds like get 6 adds start song need premium play song',\n",
       " 'exceptional application online songs loved option merging app inter music player samsung overall application works flows less',\n",
       " 'spotify better joox fosho',\n",
       " 'since disney started pay ads disney non premium version spotify became useless 1 2 songs get least 2 ads one two disney sometimes one change review get many ads',\n",
       " 'dose go playing liked songs songs even looked getting three stars',\n",
       " 'great listening favorite artists',\n",
       " 'trash app even log via fb account',\n",
       " 'app incredible good use enjoying music everyday every minute every seconds love',\n",
       " 'app good cool interested app loved much iam listening every day night spotify full supporting app suggested try app fun spotify say try spotify try army blink app good armies blinks today special day armies army day love armies love blinks happy app spotify try spotif love spotify',\n",
       " 'good first wouldnt let pick song forced listen entire playlist get fav song limited 6 skips per hour limiting skiping songs',\n",
       " 'love soo much rate 4 star problem constant ads singing option near lyrics seem appear anymore',\n",
       " 'would rate 5 whenever play something playlist changes different song playlist hope get fixed soon',\n",
       " 'love app small issues though 1 find song add liked look song takes whole different playlist please fix',\n",
       " 'much long ads',\n",
       " 'really like app whenever play song plays different one',\n",
       " 'issues app years premium user really struggling someone else said player skip pause etc sure samsung galaxy come back briefly restart phone',\n",
       " 'great song selection amazing audio quality however problems everyday casting google home connection issues lose control volume need open app able change volume inconvenience also think option shuffle songs rather put playlist like every single song time consuming making playlists could easier selecting multiple albums example',\n",
       " 'bring back shuffle albums option',\n",
       " 'quality sound selection adds louder music sometimes',\n",
       " 'always stuck black screen',\n",
       " 'great music quality',\n",
       " 'love hear ads satisfying sometimes musics play interrupt ads request fixed problem enjoy ads peacefully great app',\n",
       " 'first time user far easy enough navigate',\n",
       " 'give less one star app plays many adds every song purchased premium gives many adds irritate lot mood',\n",
       " 'awesome songs find',\n",
       " 'really like spotify proplem ads shuffle 6 skips per hour sooooo annoying neither want pay spotify premium switch another app makes spotify really hard use',\n",
       " 'work really well android auto long drives home',\n",
       " 'please turn shuffle play',\n",
       " 'good u want play song give songs yo listen instaed song sometimes u trying get song skips limited effect playlist u cant enjoy ur song without songs interfering eepecially adding songs u dont like ur playlist',\n",
       " 'middle songs pauses restarts whole song go app play song',\n",
       " 'glitchy audio randomly drops stops playing control bar disappears bottom screen unable pause stop skip audio without closing app',\n",
       " 'hate spotify free listen half song mobile hate f u',\n",
       " 'uninstalled app use anymore soon ads appeared youtube videos freaking desperate promote much please buzz',\n",
       " 'love spotify listen music podcasts premium account worth every penny',\n",
       " 'hell issue patoto man minus random songs added even choose song want play view properly play directly starts 10 second snippet song even listen music want even playlists play music want big one seems samsung google play store issue play fine apple mobile devices like ipads',\n",
       " 'app good fixe sign',\n",
       " 'dude app good today using later day check let play playlist random songs added toy playlist even select song want play listen short period time says added playlist bottom part says added know want listen full songs without random bots adding random songs even like interest',\n",
       " 'love spotify wish download music',\n",
       " 'awesome great music app',\n",
       " 'works super well works app doesnt seem want load 3 4ths time ultra laggy locks phone occationally makes sense otherwise features plentiful find anything',\n",
       " 'even listen favorite songs bc shuffle tried different accounts even change even little',\n",
       " 'nt let choose songs',\n",
       " 'load time wonderful short wait long hear next best thing']"
      ]
     },
     "execution_count": 16,
     "metadata": {},
     "output_type": "execute_result"
    }
   ],
   "source": [
    "text"
   ]
  },
  {
   "cell_type": "markdown",
   "id": "c93a0cb8",
   "metadata": {
    "papermill": {
     "duration": 0.010985,
     "end_time": "2023-09-09T14:32:03.924112",
     "exception": false,
     "start_time": "2023-09-09T14:32:03.913127",
     "status": "completed"
    },
    "tags": []
   },
   "source": [
    "## Snetiment Analysis Part"
   ]
  },
  {
   "cell_type": "code",
   "execution_count": 17,
   "id": "1f5b4d15",
   "metadata": {
    "execution": {
     "iopub.execute_input": "2023-09-09T14:32:03.949230Z",
     "iopub.status.busy": "2023-09-09T14:32:03.948280Z",
     "iopub.status.idle": "2023-09-09T14:32:04.632079Z",
     "shell.execute_reply": "2023-09-09T14:32:04.630739Z"
    },
    "papermill": {
     "duration": 0.699562,
     "end_time": "2023-09-09T14:32:04.635044",
     "exception": false,
     "start_time": "2023-09-09T14:32:03.935482",
     "status": "completed"
    },
    "tags": []
   },
   "outputs": [
    {
     "name": "stdout",
     "output_type": "stream",
     "text": [
      "[2023-09-09 14:32:03] (2.0.27) Please specify the task code, e.g. from pyabsa import TaskCodeOption\n"
     ]
    }
   ],
   "source": [
    "checkpoint_map = available_checkpoints()"
   ]
  },
  {
   "cell_type": "code",
   "execution_count": 18,
   "id": "ede49824",
   "metadata": {
    "execution": {
     "iopub.execute_input": "2023-09-09T14:32:04.659824Z",
     "iopub.status.busy": "2023-09-09T14:32:04.659378Z",
     "iopub.status.idle": "2023-09-09T14:33:00.328225Z",
     "shell.execute_reply": "2023-09-09T14:33:00.326785Z"
    },
    "papermill": {
     "duration": 55.684442,
     "end_time": "2023-09-09T14:33:00.331142",
     "exception": false,
     "start_time": "2023-09-09T14:32:04.646700",
     "status": "completed"
    },
    "tags": []
   },
   "outputs": [
    {
     "name": "stdout",
     "output_type": "stream",
     "text": [
      "[2023-09-09 14:32:04] (2.0.27) ********** \u001b[32mAvailable ATEPC model checkpoints for Version:2.0.27 (this version)\u001b[0m **********\n",
      "[2023-09-09 14:32:04] (2.0.27) ********** \u001b[32mAvailable ATEPC model checkpoints for Version:2.0.27 (this version)\u001b[0m **********\n",
      "[2023-09-09 14:32:04] (2.0.27) \u001b[32mDownloading checkpoint:english \u001b[0m\n",
      "[2023-09-09 14:32:04] (2.0.27) \u001b[31mNotice: The pretrained model are used for testing, it is recommended to train the model on your own custom datasets\u001b[0m\n"
     ]
    },
    {
     "name": "stderr",
     "output_type": "stream",
     "text": [
      "Downloading checkpoint: 579MB [00:31, 18.22MB/s]                         "
     ]
    },
    {
     "name": "stdout",
     "output_type": "stream",
     "text": [
      "[2023-09-09 14:32:38] (2.0.27) Find zipped checkpoint: ./checkpoints/ATEPC_ENGLISH_CHECKPOINT/fast_lcf_atepc_English_cdw_apcacc_82.36_apcf1_81.89_atef1_75.43.zip, unzipping\n"
     ]
    },
    {
     "name": "stderr",
     "output_type": "stream",
     "text": [
      "\n"
     ]
    },
    {
     "name": "stdout",
     "output_type": "stream",
     "text": [
      "[2023-09-09 14:32:46] (2.0.27) Done.\n",
      "[2023-09-09 14:32:46] (2.0.27) \u001b[33mIf the auto-downloading failed, please download it via browser: https://huggingface.co/spaces/yangheng/PyABSA/resolve/main/checkpoints/English/ATEPC/fast_lcf_atepc_English_cdw_apcacc_82.36_apcf1_81.89_atef1_75.43.zip \u001b[0m\n",
      "[2023-09-09 14:32:46] (2.0.27) Load aspect extractor from ./checkpoints/ATEPC_ENGLISH_CHECKPOINT/fast_lcf_atepc_English_cdw_apcacc_82.36_apcf1_81.89_atef1_75.43\n",
      "[2023-09-09 14:32:46] (2.0.27) config: ./checkpoints/ATEPC_ENGLISH_CHECKPOINT/fast_lcf_atepc_English_cdw_apcacc_82.36_apcf1_81.89_atef1_75.43/fast_lcf_atepc.config\n",
      "[2023-09-09 14:32:46] (2.0.27) state_dict: ./checkpoints/ATEPC_ENGLISH_CHECKPOINT/fast_lcf_atepc_English_cdw_apcacc_82.36_apcf1_81.89_atef1_75.43/fast_lcf_atepc.state_dict\n",
      "[2023-09-09 14:32:46] (2.0.27) model: None\n",
      "[2023-09-09 14:32:46] (2.0.27) tokenizer: ./checkpoints/ATEPC_ENGLISH_CHECKPOINT/fast_lcf_atepc_English_cdw_apcacc_82.36_apcf1_81.89_atef1_75.43/fast_lcf_atepc.tokenizer\n",
      "[2023-09-09 14:32:46] (2.0.27) Set Model Device: cpu\n",
      "[2023-09-09 14:32:46] (2.0.27) Device Name: Unknown\n"
     ]
    },
    {
     "data": {
      "application/vnd.jupyter.widget-view+json": {
       "model_id": "e2b7eb9eec4e46e597afa7ee3765bb39",
       "version_major": 2,
       "version_minor": 0
      },
      "text/plain": [
       "Downloading (…)lve/main/config.json:   0%|          | 0.00/579 [00:00<?, ?B/s]"
      ]
     },
     "metadata": {},
     "output_type": "display_data"
    },
    {
     "data": {
      "application/vnd.jupyter.widget-view+json": {
       "model_id": "a827f7f0380548ec8d68111b0d4616a5",
       "version_major": 2,
       "version_minor": 0
      },
      "text/plain": [
       "Downloading pytorch_model.bin:   0%|          | 0.00/371M [00:00<?, ?B/s]"
      ]
     },
     "metadata": {},
     "output_type": "display_data"
    },
    {
     "name": "stderr",
     "output_type": "stream",
     "text": [
      "Some weights of the model checkpoint at microsoft/deberta-v3-base were not used when initializing DebertaV2Model: ['mask_predictions.LayerNorm.weight', 'lm_predictions.lm_head.dense.bias', 'mask_predictions.dense.weight', 'lm_predictions.lm_head.LayerNorm.bias', 'mask_predictions.classifier.weight', 'mask_predictions.classifier.bias', 'lm_predictions.lm_head.bias', 'mask_predictions.LayerNorm.bias', 'lm_predictions.lm_head.dense.weight', 'lm_predictions.lm_head.LayerNorm.weight', 'mask_predictions.dense.bias']\n",
      "- This IS expected if you are initializing DebertaV2Model from the checkpoint of a model trained on another task or with another architecture (e.g. initializing a BertForSequenceClassification model from a BertForPreTraining model).\n",
      "- This IS NOT expected if you are initializing DebertaV2Model from the checkpoint of a model that you expect to be exactly identical (initializing a BertForSequenceClassification model from a BertForSequenceClassification model).\n"
     ]
    },
    {
     "data": {
      "application/vnd.jupyter.widget-view+json": {
       "model_id": "e16b30f5967747a585735777c5db080b",
       "version_major": 2,
       "version_minor": 0
      },
      "text/plain": [
       "Downloading (…)okenizer_config.json:   0%|          | 0.00/52.0 [00:00<?, ?B/s]"
      ]
     },
     "metadata": {},
     "output_type": "display_data"
    },
    {
     "data": {
      "application/vnd.jupyter.widget-view+json": {
       "model_id": "f6c1fd24fe974272ae38dbfa64bf82e1",
       "version_major": 2,
       "version_minor": 0
      },
      "text/plain": [
       "Downloading spm.model:   0%|          | 0.00/2.46M [00:00<?, ?B/s]"
      ]
     },
     "metadata": {},
     "output_type": "display_data"
    },
    {
     "name": "stderr",
     "output_type": "stream",
     "text": [
      "Special tokens have been added in the vocabulary, make sure the associated word embeddings are fine-tuned or trained.\n",
      "Special tokens have been added in the vocabulary, make sure the associated word embeddings are fine-tuned or trained.\n"
     ]
    }
   ],
   "source": [
    "aspect_extractor = ATEPCCheckpointManager.get_aspect_extractor(checkpoint='english',\n",
    "                                   auto_device=True \n",
    "                                   )"
   ]
  },
  {
   "cell_type": "code",
   "execution_count": 19,
   "id": "e30d2e94",
   "metadata": {
    "execution": {
     "iopub.execute_input": "2023-09-09T14:33:00.391838Z",
     "iopub.status.busy": "2023-09-09T14:33:00.391373Z",
     "iopub.status.idle": "2023-09-09T14:35:11.675804Z",
     "shell.execute_reply": "2023-09-09T14:35:11.674269Z"
    },
    "papermill": {
     "duration": 131.346842,
     "end_time": "2023-09-09T14:35:11.706618",
     "exception": false,
     "start_time": "2023-09-09T14:33:00.359776",
     "status": "completed"
    },
    "tags": []
   },
   "outputs": [
    {
     "name": "stderr",
     "output_type": "stream",
     "text": [
      "extracting aspect terms: 100%|██████████| 4/4 [01:20<00:00, 20.21s/it]\n"
     ]
    },
    {
     "name": "stdout",
     "output_type": "stream",
     "text": [
      "[2023-09-09 14:35:11] (2.0.27) The results of aspect term extraction have been saved in /kaggle/working/Aspect Term Extraction and Polarity Classification.FAST_LCF_ATEPC.result.json\n",
      "[2023-09-09 14:35:11] (2.0.27) Example 0: great \u001b[32m<music:Positive Confidence:0.9989745616912842>\u001b[0m service audio high quality app easy use also quick friendly support\n",
      "[2023-09-09 14:35:11] (2.0.27) Example 1: please ignore previous negative rating app super great give five stars\n",
      "[2023-09-09 14:35:11] (2.0.27) Example 2: pop get best spotify experience \u001b[31m<android:Negative Confidence:0.9992020726203918>\u001b[0m 12 annoying please let get rid\n",
      "[2023-09-09 14:35:11] (2.0.27) Example 3: really buggy terrible \u001b[31m<use:Negative Confidence:0.9991825222969055>\u001b[0m recently\n",
      "[2023-09-09 14:35:11] (2.0.27) Example 4: dear spotify get songs put playlist \u001b[31m<shuffle:Negative Confidence:0.9967742562294006>\u001b[0m play\n",
      "[2023-09-09 14:35:11] (2.0.27) Example 5: player controls sometimes disappear reason app restart forgets playing fixes issue\n",
      "[2023-09-09 14:35:11] (2.0.27) Example 6: love selection \u001b[32m<lyrics:Positive Confidence:0.9987749457359314>\u001b[0m provided song listening\n",
      "[2023-09-09 14:35:11] (2.0.27) Example 7: still extremely slow changing \u001b[31m<storage:Negative Confidence:0.9671101570129395>\u001b[0m external \u001b[31m<sd card:Negative Confidence:0.963489830493927>\u001b[0m convinced done purpose spotify knows issue done nothing solve time changed sd cards faster read write speeds samsung brand please add like song never appear searches playlists\n",
      "[2023-09-09 14:35:11] (2.0.27) Example 8: great \u001b[32m<app:Positive Confidence:0.9787433743476868>\u001b[0m best mp3 music app ever used one problem play songs find songs despite app wonderful recommend best\n",
      "[2023-09-09 14:35:11] (2.0.27) Example 9: deleting app following reasons app failing business model whether streaming services like consumer want pay music fully 6 \u001b[31m<ads:Negative Confidence:0.9984059929847717>\u001b[0m successively upon logging single song much closed app ad number 6 patient ways profit already peaked left decline\n",
      "[2023-09-09 14:35:11] (2.0.27) Example 10: love spotify usually app best others stated control buttons disappear podcasts stop reason fixed deleting reinstalling app first world problems sure highly annoying nonetheless especially paying prime\n",
      "[2023-09-09 14:35:11] (2.0.27) Example 11: play spotify wifi\n",
      "[2023-09-09 14:35:11] (2.0.27) Example 12: amazon premium music family package good everyone could listen whatever liked respective alexas rooms asking play problem spotify premium family alexa \u001b[31m<integration:Negative Confidence:0.9982243180274963>\u001b[0m poor like spotify stops playing time play different alexa devices time asking integration better\n",
      "[2023-09-09 14:35:11] (2.0.27) Example 13: worst app always says offline never showed song podcast\n",
      "[2023-09-09 14:35:11] (2.0.27) Example 14: hav \u001b[36m<music:Neutral Confidence:0.9990988969802856>\u001b[0m like super\n",
      "[2023-09-09 14:35:11] (2.0.27) Example 15: improve ia recommend songs find similar songs best music app \u001b[32m<youtube:Positive Confidence:0.9825584888458252>\u001b[0m better everything else spotify king\n",
      "[2023-09-09 14:35:11] (2.0.27) Example 16: android user loads glitches app player bar disappears shuffle button missing sort please\n",
      "[2023-09-09 14:35:11] (2.0.27) Example 17: listen downloaded playlist offline point feature disappointed\n",
      "[2023-09-09 14:35:11] (2.0.27) Example 18: always \u001b[31m<crashing:Negative Confidence:0.9982123374938965>\u001b[0m unable play stop working everytime use\n",
      "[2023-09-09 14:35:11] (2.0.27) Example 19: know ads cost free use yes thats right 3 ads straight back back like 1 hlaf minutes sometimes think little much even \u001b[31m<volume:Negative Confidence:0.9952136278152466>\u001b[0m increases ads\n",
      "[2023-09-09 14:35:11] (2.0.27) Example 20: always favorite platform listen music like subscribe alot things one must\n",
      "[2023-09-09 14:35:11] (2.0.27) Example 21: voice sweet hearable\n",
      "[2023-09-09 14:35:11] (2.0.27) Example 22: logged acc tried open log open see logo\n",
      "[2023-09-09 14:35:11] (2.0.27) Example 23: usually love app problems everyone else reporting random pauses stops playing restart currently view song podcast currently playing pause skip back forth fairly unusable stage acceptable paid service\n",
      "[2023-09-09 14:35:11] (2.0.27) Example 24: amazing \u001b[32m<music:Positive Confidence:0.9994183778762817>\u001b[0m experience\n",
      "[2023-09-09 14:35:11] (2.0.27) Example 25: like everything like listen commercial even better even like songs wanting knowing name brought thanks spotify\n",
      "[2023-09-09 14:35:11] (2.0.27) Example 26: jammin hyuh old school hardcore thrash heard years return youth yes please\n",
      "[2023-09-09 14:35:11] (2.0.27) Example 27: cant listen downloaded stuff offline\n",
      "[2023-09-09 14:35:11] (2.0.27) Example 28: app show internet available phone wifi data working already fred adds happens time want search song\n",
      "[2023-09-09 14:35:11] (2.0.27) Example 29: everything perfect add light theme\n",
      "[2023-09-09 14:35:11] (2.0.27) Example 30: option delete song album option download one track album option shuffle music library without creating playlist liking music\n",
      "[2023-09-09 14:35:11] (2.0.27) Example 31: best music \u001b[32m<app:Positive Confidence:0.9984531402587891>\u001b[0m ever seen\n",
      "[2023-09-09 14:35:11] (2.0.27) Example 32: wow sudden login work even though 100 positive correct morning app asks login happened obviously problems found email account telling change password suspicious behaviour yeah logging spotify \u001b[31m<xbox:Negative Confidence:0.9346240758895874>\u001b[0m suspicious thanks stress morning need renewing way teaching lesson\n",
      "[2023-09-09 14:35:11] (2.0.27) Example 33: unable use ph gets downloaded unable log\n",
      "[2023-09-09 14:35:11] (2.0.27) Example 34: plz remove adds ther continuously 2 3 adds list remove 2 adds give 1 adds\n",
      "[2023-09-09 14:35:11] (2.0.27) Example 35: liked songs play offline helps signal problems\n",
      "[2023-09-09 14:35:11] (2.0.27) Example 36: sometimes try listen \u001b[31m<playlist:Negative Confidence:0.7190141081809998>\u001b[0m play first song try go different one goes back first one little weird\n",
      "[2023-09-09 14:35:11] (2.0.27) Example 37: good \u001b[32m<app:Positive Confidence:0.9985225796699524>\u001b[0m listening music\n",
      "[2023-09-09 14:35:11] (2.0.27) Example 38: commercials adds need \u001b[36m<wifi:Neutral Confidence:0.5896433591842651>\u001b[0m use satellite radio station pick least looks\n",
      "[2023-09-09 14:35:11] (2.0.27) Example 39: wide range songs collection\n",
      "[2023-09-09 14:35:11] (2.0.27) Example 40: deal compared \u001b[31m<desktop:Negative Confidence:0.994587779045105>\u001b[0m version inferior ability play songs bare barely free need said think made point clear enough\n",
      "[2023-09-09 14:35:11] (2.0.27) Example 41: spotify awesome love obscure artist think fingertips well easy access newer things update lost star constantly asking review already done\n",
      "[2023-09-09 14:35:11] (2.0.27) Example 42: best \u001b[32m<app:Positive Confidence:0.9992263317108154>\u001b[0m stream music\n",
      "[2023-09-09 14:35:11] (2.0.27) Example 43: account glitching logged try fix let log back shows logo never sign screen\n",
      "[2023-09-09 14:35:11] (2.0.27) Example 44: everything go open app last week play \u001b[31m<bar:Negative Confidence:0.9992144107818604>\u001b[0m go open shuts right back\n",
      "[2023-09-09 14:35:11] (2.0.27) Example 45: lost \u001b[31m<download:Negative Confidence:0.9988263249397278>\u001b[0m button download playlists\n",
      "[2023-09-09 14:35:11] (2.0.27) Example 46: love app style \u001b[32m<music:Positive Confidence:0.9989978671073914>\u001b[0m selection specific\n",
      "[2023-09-09 14:35:11] (2.0.27) Example 47: pretty good \u001b[32m<apps:Positive Confidence:0.9906041026115417>\u001b[0m better quality musics\n",
      "[2023-09-09 14:35:11] (2.0.27) Example 48: videoke feature show device\n",
      "[2023-09-09 14:35:11] (2.0.27) Example 49: love features \u001b[32m<app:Positive Confidence:0.9923403263092041>\u001b[0m one thing bit expensive month subcription 9 90\n",
      "[2023-09-09 14:35:11] (2.0.27) Example 50: podcasts becoming nightmare trying get rid podcasts app ridiculous stupid things home page click interested till blue face keep throwing spam casts\n",
      "[2023-09-09 14:35:11] (2.0.27) Example 51: best birthday present ever received baby brother listen something least everyday happy selection christian artists music love finding new artists let listening great podcasts thank much wonderful app\n",
      "[2023-09-09 14:35:11] (2.0.27) Example 52: downside rotate songs one month listen great song next month maybe\n",
      "[2023-09-09 14:35:11] (2.0.27) Example 53: sound quality really good listen favourite songs anytime anywhere without disturbance really good experience loved app alot keep providing us best service\n",
      "[2023-09-09 14:35:11] (2.0.27) Example 54: keeps cutting showing \u001b[31m<song:Negative Confidence:0.993698239326477>\u001b[0m playing\n",
      "[2023-09-09 14:35:11] (2.0.27) Example 55: unuser friendly compared \u001b[36m<ipad:Neutral Confidence:0.7228331565856934>\u001b[0m pc\n",
      "[2023-09-09 14:35:11] (2.0.27) Example 56: paying customer nothing say spotify perfecto\n",
      "[2023-09-09 14:35:11] (2.0.27) Example 57: much adds like get 6 adds start song need premium play song\n",
      "[2023-09-09 14:35:11] (2.0.27) Example 58: exceptional application online songs loved option merging app inter music player samsung overall application works flows less\n",
      "[2023-09-09 14:35:11] (2.0.27) Example 59: spotify better joox fosho\n",
      "[2023-09-09 14:35:11] (2.0.27) Example 60: since \u001b[31m<disney:Negative Confidence:0.9911810159683228>\u001b[0m started pay ads disney non premium version spotify became useless 1 2 songs get least 2 ads one two disney sometimes one change review get many ads\n",
      "[2023-09-09 14:35:11] (2.0.27) Example 61: dose go playing liked songs songs even looked getting three stars\n",
      "[2023-09-09 14:35:11] (2.0.27) Example 62: great \u001b[32m<listening:Positive Confidence:0.9994193315505981>\u001b[0m favorite artists\n",
      "[2023-09-09 14:35:11] (2.0.27) Example 63: trash app even log via \u001b[36m<fb:Neutral Confidence:0.9913601279258728>\u001b[0m account\n",
      "[2023-09-09 14:35:11] (2.0.27) Example 64: app incredible good use enjoying \u001b[32m<music:Positive Confidence:0.9993221759796143>\u001b[0m everyday every minute every seconds love\n",
      "[2023-09-09 14:35:11] (2.0.27) Example 65: app good cool interested app loved much iam listening every day night spotify full supporting app suggested try app fun spotify say try spotify try army blink app good armies blinks today special day armies army day love armies love blinks happy app spotify try spotif love spotify\n",
      "[2023-09-09 14:35:11] (2.0.27) Example 66: good first wouldnt let pick song forced listen entire playlist get fav song limited 6 skips per hour limiting skiping songs\n",
      "[2023-09-09 14:35:11] (2.0.27) Example 67: love soo much rate 4 star problem constant \u001b[31m<ads:Negative Confidence:0.9970245957374573>\u001b[0m singing option near lyrics seem appear anymore\n",
      "[2023-09-09 14:35:11] (2.0.27) Example 68: would rate 5 whenever play something \u001b[31m<playlist:Negative Confidence:0.9984311461448669>\u001b[0m changes different song playlist hope get fixed soon\n",
      "[2023-09-09 14:35:11] (2.0.27) Example 69: love app small issues though 1 find song add liked look song takes whole different playlist please fix\n",
      "[2023-09-09 14:35:11] (2.0.27) Example 70: much long ads\n",
      "[2023-09-09 14:35:11] (2.0.27) Example 71: really like app whenever play song plays different one\n",
      "[2023-09-09 14:35:11] (2.0.27) Example 72: issues app years premium user really struggling someone else said player skip pause etc sure samsung galaxy come back briefly restart phone\n",
      "[2023-09-09 14:35:11] (2.0.27) Example 73: great song selection amazing \u001b[32m<audio quality:Positive Confidence:0.9987927675247192>\u001b[0m however problems everyday \u001b[31m<casting:Negative Confidence:0.9980067610740662>\u001b[0m google home connection issues lose control \u001b[31m<volume:Negative Confidence:0.9988252520561218>\u001b[0m need open app able change volume inconvenience also think option shuffle songs rather put playlist like every single song time consuming making playlists could easier selecting multiple albums example\n",
      "[2023-09-09 14:35:11] (2.0.27) Example 74: bring back shuffle albums option\n",
      "[2023-09-09 14:35:11] (2.0.27) Example 75: quality \u001b[32m<sound selection:Positive Confidence:0.9987276196479797>\u001b[0m adds louder music sometimes\n",
      "[2023-09-09 14:35:11] (2.0.27) Example 76: always stuck black screen\n",
      "[2023-09-09 14:35:11] (2.0.27) Example 77: great \u001b[32m<music:Positive Confidence:0.9993135929107666>\u001b[0m quality\n",
      "[2023-09-09 14:35:11] (2.0.27) Example 78: love hear \u001b[32m<ads:Positive Confidence:0.9651380181312561>\u001b[0m satisfying sometimes musics play interrupt ads request fixed problem enjoy ads peacefully great app\n",
      "[2023-09-09 14:35:11] (2.0.27) Example 79: first time user far easy enough navigate\n",
      "[2023-09-09 14:35:11] (2.0.27) Example 80: give less one star app plays many adds every song purchased \u001b[31m<premium:Negative Confidence:0.9992782473564148>\u001b[0m gives many adds irritate lot mood\n",
      "[2023-09-09 14:35:11] (2.0.27) Example 81: awesome \u001b[32m<songs:Positive Confidence:0.9986600875854492>\u001b[0m find\n",
      "[2023-09-09 14:35:11] (2.0.27) Example 82: really like spotify proplem \u001b[31m<ads:Negative Confidence:0.9988722205162048>\u001b[0m shuffle 6 skips per hour sooooo annoying neither want pay spotify premium switch another app makes spotify really hard use\n",
      "[2023-09-09 14:35:11] (2.0.27) Example 83: work really well \u001b[32m<android:Positive Confidence:0.9953286647796631>\u001b[0m auto long drives home\n",
      "[2023-09-09 14:35:11] (2.0.27) Example 84: please turn \u001b[31m<shuffle:Negative Confidence:0.5894482731819153>\u001b[0m play\n",
      "[2023-09-09 14:35:11] (2.0.27) Example 85: good u want play song give songs yo listen instaed song sometimes u trying get song skips limited effect \u001b[31m<playlist:Negative Confidence:0.9964420199394226>\u001b[0m u cant enjoy ur song without songs interfering eepecially adding songs u dont like ur playlist\n",
      "[2023-09-09 14:35:11] (2.0.27) Example 86: middle songs pauses restarts whole song go app play song\n",
      "[2023-09-09 14:35:11] (2.0.27) Example 87: glitchy \u001b[31m<audio:Negative Confidence:0.9988237023353577>\u001b[0m randomly drops stops playing control bar disappears bottom screen unable pause stop skip audio without closing app\n",
      "[2023-09-09 14:35:11] (2.0.27) Example 88: hate spotify free listen half song mobile hate f u\n",
      "[2023-09-09 14:35:11] (2.0.27) Example 89: uninstalled app use anymore soon ads appeared youtube videos freaking desperate promote much please buzz\n",
      "[2023-09-09 14:35:11] (2.0.27) Example 90: love \u001b[32m<spotify:Positive Confidence:0.999269425868988>\u001b[0m listen music podcasts premium account worth every penny\n",
      "[2023-09-09 14:35:11] (2.0.27) Example 91: hell issue patoto man minus random songs added even choose song want play view properly play directly starts 10 second snippet song even listen music want even playlists play music want big one seems samsung \u001b[36m<google play:Neutral Confidence:0.631934642791748>\u001b[0m store issue play fine apple mobile devices like ipads\n",
      "[2023-09-09 14:35:11] (2.0.27) Example 92: app good fixe sign\n",
      "[2023-09-09 14:35:11] (2.0.27) Example 93: dude app good today using later day check let play playlist random songs added toy playlist even select song want play listen short period time says added playlist bottom part says added know want listen full songs without random bots adding random songs even like interest\n",
      "[2023-09-09 14:35:11] (2.0.27) Example 94: love spotify wish download music\n",
      "[2023-09-09 14:35:11] (2.0.27) Example 95: awesome great music app\n",
      "[2023-09-09 14:35:11] (2.0.27) Example 96: works super well works app doesnt seem want load 3 4ths time ultra laggy locks phone occationally makes sense otherwise features plentiful find anything\n",
      "[2023-09-09 14:35:11] (2.0.27) Example 97: even listen favorite songs bc \u001b[31m<shuffle:Negative Confidence:0.9954476952552795>\u001b[0m tried different accounts even change even little\n",
      "[2023-09-09 14:35:11] (2.0.27) Example 98: nt let choose songs\n",
      "[2023-09-09 14:35:11] (2.0.27) Example 99: load time wonderful short \u001b[32m<wait:Positive Confidence:0.9243937730789185>\u001b[0m long hear next best thing\n"
     ]
    }
   ],
   "source": [
    "atepc_result = aspect_extractor.extract_aspect(inference_source=text,  #\n",
    "                          pred_sentiment=True,\n",
    "                          )"
   ]
  },
  {
   "cell_type": "code",
   "execution_count": 20,
   "id": "6f715bab",
   "metadata": {
    "execution": {
     "iopub.execute_input": "2023-09-09T14:35:11.765222Z",
     "iopub.status.busy": "2023-09-09T14:35:11.763837Z",
     "iopub.status.idle": "2023-09-09T14:35:11.777816Z",
     "shell.execute_reply": "2023-09-09T14:35:11.776820Z"
    },
    "papermill": {
     "duration": 0.046524,
     "end_time": "2023-09-09T14:35:11.780754",
     "exception": false,
     "start_time": "2023-09-09T14:35:11.734230",
     "status": "completed"
    },
    "tags": []
   },
   "outputs": [
    {
     "data": {
      "text/plain": [
       "[{'sentence': 'great music service audio high quality app easy use also quick friendly support',\n",
       "  'IOB': ['O', 'B-ASP', 'O', 'O', 'O', 'O', 'O', 'O', 'O', 'O', 'O', 'O', 'O'],\n",
       "  'tokens': ['great',\n",
       "   'music',\n",
       "   'service',\n",
       "   'audio',\n",
       "   'high',\n",
       "   'quality',\n",
       "   'app',\n",
       "   'easy',\n",
       "   'use',\n",
       "   'also',\n",
       "   'quick',\n",
       "   'friendly',\n",
       "   'support'],\n",
       "  'aspect': ['music'],\n",
       "  'position': [[2]],\n",
       "  'sentiment': ['Positive'],\n",
       "  'probs': [[0.0008199472213163972,\n",
       "    0.00020553685317281634,\n",
       "    0.9989745616912842]],\n",
       "  'confidence': [0.9989745616912842]},\n",
       " {'sentence': 'please ignore previous negative rating app super great give five stars',\n",
       "  'IOB': ['O', 'O', 'O', 'O', 'O', 'O', 'O', 'O', 'O', 'O', 'O'],\n",
       "  'tokens': ['please',\n",
       "   'ignore',\n",
       "   'previous',\n",
       "   'negative',\n",
       "   'rating',\n",
       "   'app',\n",
       "   'super',\n",
       "   'great',\n",
       "   'give',\n",
       "   'five',\n",
       "   'stars'],\n",
       "  'aspect': [],\n",
       "  'position': [],\n",
       "  'sentiment': [],\n",
       "  'probs': [],\n",
       "  'confidence': []},\n",
       " {'sentence': 'pop get best spotify experience android 12 annoying please let get rid',\n",
       "  'IOB': ['O', 'O', 'O', 'O', 'O', 'B-ASP', 'O', 'O', 'O', 'O', 'O', 'O'],\n",
       "  'tokens': ['pop',\n",
       "   'get',\n",
       "   'best',\n",
       "   'spotify',\n",
       "   'experience',\n",
       "   'android',\n",
       "   '12',\n",
       "   'annoying',\n",
       "   'please',\n",
       "   'let',\n",
       "   'get',\n",
       "   'rid'],\n",
       "  'aspect': ['android'],\n",
       "  'position': [[6]],\n",
       "  'sentiment': ['Negative'],\n",
       "  'probs': [[0.9992020726203918,\n",
       "    0.0005016561481170356,\n",
       "    0.00029618677217513323]],\n",
       "  'confidence': [0.9992020726203918]},\n",
       " {'sentence': 'really buggy terrible use recently',\n",
       "  'IOB': ['O', 'O', 'O', 'B-ASP', 'O'],\n",
       "  'tokens': ['really', 'buggy', 'terrible', 'use', 'recently'],\n",
       "  'aspect': ['use'],\n",
       "  'position': [[4]],\n",
       "  'sentiment': ['Negative'],\n",
       "  'probs': [[0.9991825222969055,\n",
       "    0.0005971944192424417,\n",
       "    0.00022018069284968078]],\n",
       "  'confidence': [0.9991825222969055]},\n",
       " {'sentence': 'dear spotify get songs put playlist shuffle play',\n",
       "  'IOB': ['O', 'O', 'O', 'O', 'O', 'O', 'B-ASP', 'O'],\n",
       "  'tokens': ['dear',\n",
       "   'spotify',\n",
       "   'get',\n",
       "   'songs',\n",
       "   'put',\n",
       "   'playlist',\n",
       "   'shuffle',\n",
       "   'play'],\n",
       "  'aspect': ['shuffle'],\n",
       "  'position': [[7]],\n",
       "  'sentiment': ['Negative'],\n",
       "  'probs': [[0.9967742562294006,\n",
       "    0.0029111471958458424,\n",
       "    0.00031452669645659626]],\n",
       "  'confidence': [0.9967742562294006]}]"
      ]
     },
     "execution_count": 20,
     "metadata": {},
     "output_type": "execute_result"
    }
   ],
   "source": [
    "atepc_result[0:5]"
   ]
  }
 ],
 "kernelspec": {
  "display_name": "Python 3",
  "language": "python",
  "name": "python3"
 },
 "language_info": {
  "codemirror_mode": {
   "name": "ipython",
   "version": 3
  },
  "file_extension": ".py",
  "mimetype": "text/x-python",
  "name": "python",
  "nbconvert_exporter": "python",
  "pygments_lexer": "ipython3",
  "version": "3.6.4"
 },
 "metadata": {
  "kernelspec": {
   "display_name": "Python 3",
   "language": "python",
   "name": "python3"
  },
  "language_info": {
   "codemirror_mode": {
    "name": "ipython",
    "version": 3
   },
   "file_extension": ".py",
   "mimetype": "text/x-python",
   "name": "python",
   "nbconvert_exporter": "python",
   "pygments_lexer": "ipython3",
   "version": "3.7.12"
  },
  "papermill": {
   "default_parameters": {},
   "duration": 307.883854,
   "end_time": "2023-09-09T14:35:14.432244",
   "environment_variables": {},
   "exception": null,
   "input_path": "__notebook__.ipynb",
   "output_path": "__notebook__.ipynb",
   "parameters": {},
   "start_time": "2023-09-09T14:30:06.548390",
   "version": "2.3.4"
  },
  "widgets": {
   "application/vnd.jupyter.widget-state+json": {
    "state": {
     "05c8cf267bdf4c598ba320d4d54ff258": {
      "model_module": "@jupyter-widgets/base",
      "model_module_version": "1.2.0",
      "model_name": "LayoutModel",
      "state": {
       "_model_module": "@jupyter-widgets/base",
       "_model_module_version": "1.2.0",
       "_model_name": "LayoutModel",
       "_view_count": null,
       "_view_module": "@jupyter-widgets/base",
       "_view_module_version": "1.2.0",
       "_view_name": "LayoutView",
       "align_content": null,
       "align_items": null,
       "align_self": null,
       "border": null,
       "bottom": null,
       "display": null,
       "flex": null,
       "flex_flow": null,
       "grid_area": null,
       "grid_auto_columns": null,
       "grid_auto_flow": null,
       "grid_auto_rows": null,
       "grid_column": null,
       "grid_gap": null,
       "grid_row": null,
       "grid_template_areas": null,
       "grid_template_columns": null,
       "grid_template_rows": null,
       "height": null,
       "justify_content": null,
       "justify_items": null,
       "left": null,
       "margin": null,
       "max_height": null,
       "max_width": null,
       "min_height": null,
       "min_width": null,
       "object_fit": null,
       "object_position": null,
       "order": null,
       "overflow": null,
       "overflow_x": null,
       "overflow_y": null,
       "padding": null,
       "right": null,
       "top": null,
       "visibility": null,
       "width": null
      }
     },
     "0815b03b628e44679a9e8f8a913fb961": {
      "model_module": "@jupyter-widgets/base",
      "model_module_version": "1.2.0",
      "model_name": "LayoutModel",
      "state": {
       "_model_module": "@jupyter-widgets/base",
       "_model_module_version": "1.2.0",
       "_model_name": "LayoutModel",
       "_view_count": null,
       "_view_module": "@jupyter-widgets/base",
       "_view_module_version": "1.2.0",
       "_view_name": "LayoutView",
       "align_content": null,
       "align_items": null,
       "align_self": null,
       "border": null,
       "bottom": null,
       "display": null,
       "flex": null,
       "flex_flow": null,
       "grid_area": null,
       "grid_auto_columns": null,
       "grid_auto_flow": null,
       "grid_auto_rows": null,
       "grid_column": null,
       "grid_gap": null,
       "grid_row": null,
       "grid_template_areas": null,
       "grid_template_columns": null,
       "grid_template_rows": null,
       "height": null,
       "justify_content": null,
       "justify_items": null,
       "left": null,
       "margin": null,
       "max_height": null,
       "max_width": null,
       "min_height": null,
       "min_width": null,
       "object_fit": null,
       "object_position": null,
       "order": null,
       "overflow": null,
       "overflow_x": null,
       "overflow_y": null,
       "padding": null,
       "right": null,
       "top": null,
       "visibility": null,
       "width": null
      }
     },
     "1df2c11aa031469cb6bc42c0177a286b": {
      "model_module": "@jupyter-widgets/controls",
      "model_module_version": "1.5.0",
      "model_name": "FloatProgressModel",
      "state": {
       "_dom_classes": [],
       "_model_module": "@jupyter-widgets/controls",
       "_model_module_version": "1.5.0",
       "_model_name": "FloatProgressModel",
       "_view_count": null,
       "_view_module": "@jupyter-widgets/controls",
       "_view_module_version": "1.5.0",
       "_view_name": "ProgressView",
       "bar_style": "success",
       "description": "",
       "description_tooltip": null,
       "layout": "IPY_MODEL_7c77a708d8524c7f826d88e3b743076d",
       "max": 579.0,
       "min": 0.0,
       "orientation": "horizontal",
       "style": "IPY_MODEL_3075c3e2f558490cb083aecc8fdd7225",
       "value": 579.0
      }
     },
     "1e6d8e9c47104af4902082507cba6b3a": {
      "model_module": "@jupyter-widgets/controls",
      "model_module_version": "1.5.0",
      "model_name": "DescriptionStyleModel",
      "state": {
       "_model_module": "@jupyter-widgets/controls",
       "_model_module_version": "1.5.0",
       "_model_name": "DescriptionStyleModel",
       "_view_count": null,
       "_view_module": "@jupyter-widgets/base",
       "_view_module_version": "1.2.0",
       "_view_name": "StyleView",
       "description_width": ""
      }
     },
     "222b818056e143238da0ba88999b14ae": {
      "model_module": "@jupyter-widgets/base",
      "model_module_version": "1.2.0",
      "model_name": "LayoutModel",
      "state": {
       "_model_module": "@jupyter-widgets/base",
       "_model_module_version": "1.2.0",
       "_model_name": "LayoutModel",
       "_view_count": null,
       "_view_module": "@jupyter-widgets/base",
       "_view_module_version": "1.2.0",
       "_view_name": "LayoutView",
       "align_content": null,
       "align_items": null,
       "align_self": null,
       "border": null,
       "bottom": null,
       "display": null,
       "flex": null,
       "flex_flow": null,
       "grid_area": null,
       "grid_auto_columns": null,
       "grid_auto_flow": null,
       "grid_auto_rows": null,
       "grid_column": null,
       "grid_gap": null,
       "grid_row": null,
       "grid_template_areas": null,
       "grid_template_columns": null,
       "grid_template_rows": null,
       "height": null,
       "justify_content": null,
       "justify_items": null,
       "left": null,
       "margin": null,
       "max_height": null,
       "max_width": null,
       "min_height": null,
       "min_width": null,
       "object_fit": null,
       "object_position": null,
       "order": null,
       "overflow": null,
       "overflow_x": null,
       "overflow_y": null,
       "padding": null,
       "right": null,
       "top": null,
       "visibility": null,
       "width": null
      }
     },
     "2418a6cafa1b4bf2b39d4eb0b0e8b2e7": {
      "model_module": "@jupyter-widgets/controls",
      "model_module_version": "1.5.0",
      "model_name": "DescriptionStyleModel",
      "state": {
       "_model_module": "@jupyter-widgets/controls",
       "_model_module_version": "1.5.0",
       "_model_name": "DescriptionStyleModel",
       "_view_count": null,
       "_view_module": "@jupyter-widgets/base",
       "_view_module_version": "1.2.0",
       "_view_name": "StyleView",
       "description_width": ""
      }
     },
     "2909946d33084a95a4d524f09210c9dd": {
      "model_module": "@jupyter-widgets/base",
      "model_module_version": "1.2.0",
      "model_name": "LayoutModel",
      "state": {
       "_model_module": "@jupyter-widgets/base",
       "_model_module_version": "1.2.0",
       "_model_name": "LayoutModel",
       "_view_count": null,
       "_view_module": "@jupyter-widgets/base",
       "_view_module_version": "1.2.0",
       "_view_name": "LayoutView",
       "align_content": null,
       "align_items": null,
       "align_self": null,
       "border": null,
       "bottom": null,
       "display": null,
       "flex": null,
       "flex_flow": null,
       "grid_area": null,
       "grid_auto_columns": null,
       "grid_auto_flow": null,
       "grid_auto_rows": null,
       "grid_column": null,
       "grid_gap": null,
       "grid_row": null,
       "grid_template_areas": null,
       "grid_template_columns": null,
       "grid_template_rows": null,
       "height": null,
       "justify_content": null,
       "justify_items": null,
       "left": null,
       "margin": null,
       "max_height": null,
       "max_width": null,
       "min_height": null,
       "min_width": null,
       "object_fit": null,
       "object_position": null,
       "order": null,
       "overflow": null,
       "overflow_x": null,
       "overflow_y": null,
       "padding": null,
       "right": null,
       "top": null,
       "visibility": null,
       "width": null
      }
     },
     "3075c3e2f558490cb083aecc8fdd7225": {
      "model_module": "@jupyter-widgets/controls",
      "model_module_version": "1.5.0",
      "model_name": "ProgressStyleModel",
      "state": {
       "_model_module": "@jupyter-widgets/controls",
       "_model_module_version": "1.5.0",
       "_model_name": "ProgressStyleModel",
       "_view_count": null,
       "_view_module": "@jupyter-widgets/base",
       "_view_module_version": "1.2.0",
       "_view_name": "StyleView",
       "bar_color": null,
       "description_width": ""
      }
     },
     "37b4e75184854357946d7180ce35e169": {
      "model_module": "@jupyter-widgets/controls",
      "model_module_version": "1.5.0",
      "model_name": "ProgressStyleModel",
      "state": {
       "_model_module": "@jupyter-widgets/controls",
       "_model_module_version": "1.5.0",
       "_model_name": "ProgressStyleModel",
       "_view_count": null,
       "_view_module": "@jupyter-widgets/base",
       "_view_module_version": "1.2.0",
       "_view_name": "StyleView",
       "bar_color": null,
       "description_width": ""
      }
     },
     "3c76896a8a514fe2856377f513bcc74e": {
      "model_module": "@jupyter-widgets/controls",
      "model_module_version": "1.5.0",
      "model_name": "ProgressStyleModel",
      "state": {
       "_model_module": "@jupyter-widgets/controls",
       "_model_module_version": "1.5.0",
       "_model_name": "ProgressStyleModel",
       "_view_count": null,
       "_view_module": "@jupyter-widgets/base",
       "_view_module_version": "1.2.0",
       "_view_name": "StyleView",
       "bar_color": null,
       "description_width": ""
      }
     },
     "4244e75b0b714523887845c13c79ab40": {
      "model_module": "@jupyter-widgets/controls",
      "model_module_version": "1.5.0",
      "model_name": "HTMLModel",
      "state": {
       "_dom_classes": [],
       "_model_module": "@jupyter-widgets/controls",
       "_model_module_version": "1.5.0",
       "_model_name": "HTMLModel",
       "_view_count": null,
       "_view_module": "@jupyter-widgets/controls",
       "_view_module_version": "1.5.0",
       "_view_name": "HTMLView",
       "description": "",
       "description_tooltip": null,
       "layout": "IPY_MODEL_e8b277160c1443a489af2b99a8806c80",
       "placeholder": "​",
       "style": "IPY_MODEL_2418a6cafa1b4bf2b39d4eb0b0e8b2e7",
       "value": "Downloading pytorch_model.bin: 100%"
      }
     },
     "45544b6ee47e4da6bb65b2bf83358dd7": {
      "model_module": "@jupyter-widgets/base",
      "model_module_version": "1.2.0",
      "model_name": "LayoutModel",
      "state": {
       "_model_module": "@jupyter-widgets/base",
       "_model_module_version": "1.2.0",
       "_model_name": "LayoutModel",
       "_view_count": null,
       "_view_module": "@jupyter-widgets/base",
       "_view_module_version": "1.2.0",
       "_view_name": "LayoutView",
       "align_content": null,
       "align_items": null,
       "align_self": null,
       "border": null,
       "bottom": null,
       "display": null,
       "flex": null,
       "flex_flow": null,
       "grid_area": null,
       "grid_auto_columns": null,
       "grid_auto_flow": null,
       "grid_auto_rows": null,
       "grid_column": null,
       "grid_gap": null,
       "grid_row": null,
       "grid_template_areas": null,
       "grid_template_columns": null,
       "grid_template_rows": null,
       "height": null,
       "justify_content": null,
       "justify_items": null,
       "left": null,
       "margin": null,
       "max_height": null,
       "max_width": null,
       "min_height": null,
       "min_width": null,
       "object_fit": null,
       "object_position": null,
       "order": null,
       "overflow": null,
       "overflow_x": null,
       "overflow_y": null,
       "padding": null,
       "right": null,
       "top": null,
       "visibility": null,
       "width": null
      }
     },
     "45621994932d4ae68d54b89a7fe16923": {
      "model_module": "@jupyter-widgets/base",
      "model_module_version": "1.2.0",
      "model_name": "LayoutModel",
      "state": {
       "_model_module": "@jupyter-widgets/base",
       "_model_module_version": "1.2.0",
       "_model_name": "LayoutModel",
       "_view_count": null,
       "_view_module": "@jupyter-widgets/base",
       "_view_module_version": "1.2.0",
       "_view_name": "LayoutView",
       "align_content": null,
       "align_items": null,
       "align_self": null,
       "border": null,
       "bottom": null,
       "display": null,
       "flex": null,
       "flex_flow": null,
       "grid_area": null,
       "grid_auto_columns": null,
       "grid_auto_flow": null,
       "grid_auto_rows": null,
       "grid_column": null,
       "grid_gap": null,
       "grid_row": null,
       "grid_template_areas": null,
       "grid_template_columns": null,
       "grid_template_rows": null,
       "height": null,
       "justify_content": null,
       "justify_items": null,
       "left": null,
       "margin": null,
       "max_height": null,
       "max_width": null,
       "min_height": null,
       "min_width": null,
       "object_fit": null,
       "object_position": null,
       "order": null,
       "overflow": null,
       "overflow_x": null,
       "overflow_y": null,
       "padding": null,
       "right": null,
       "top": null,
       "visibility": null,
       "width": null
      }
     },
     "49835e68d4cc413cbd7ff935f7b6ce1c": {
      "model_module": "@jupyter-widgets/base",
      "model_module_version": "1.2.0",
      "model_name": "LayoutModel",
      "state": {
       "_model_module": "@jupyter-widgets/base",
       "_model_module_version": "1.2.0",
       "_model_name": "LayoutModel",
       "_view_count": null,
       "_view_module": "@jupyter-widgets/base",
       "_view_module_version": "1.2.0",
       "_view_name": "LayoutView",
       "align_content": null,
       "align_items": null,
       "align_self": null,
       "border": null,
       "bottom": null,
       "display": null,
       "flex": null,
       "flex_flow": null,
       "grid_area": null,
       "grid_auto_columns": null,
       "grid_auto_flow": null,
       "grid_auto_rows": null,
       "grid_column": null,
       "grid_gap": null,
       "grid_row": null,
       "grid_template_areas": null,
       "grid_template_columns": null,
       "grid_template_rows": null,
       "height": null,
       "justify_content": null,
       "justify_items": null,
       "left": null,
       "margin": null,
       "max_height": null,
       "max_width": null,
       "min_height": null,
       "min_width": null,
       "object_fit": null,
       "object_position": null,
       "order": null,
       "overflow": null,
       "overflow_x": null,
       "overflow_y": null,
       "padding": null,
       "right": null,
       "top": null,
       "visibility": null,
       "width": null
      }
     },
     "4c29b851b6cb4c6f9d1df018a127b6b6": {
      "model_module": "@jupyter-widgets/base",
      "model_module_version": "1.2.0",
      "model_name": "LayoutModel",
      "state": {
       "_model_module": "@jupyter-widgets/base",
       "_model_module_version": "1.2.0",
       "_model_name": "LayoutModel",
       "_view_count": null,
       "_view_module": "@jupyter-widgets/base",
       "_view_module_version": "1.2.0",
       "_view_name": "LayoutView",
       "align_content": null,
       "align_items": null,
       "align_self": null,
       "border": null,
       "bottom": null,
       "display": null,
       "flex": null,
       "flex_flow": null,
       "grid_area": null,
       "grid_auto_columns": null,
       "grid_auto_flow": null,
       "grid_auto_rows": null,
       "grid_column": null,
       "grid_gap": null,
       "grid_row": null,
       "grid_template_areas": null,
       "grid_template_columns": null,
       "grid_template_rows": null,
       "height": null,
       "justify_content": null,
       "justify_items": null,
       "left": null,
       "margin": null,
       "max_height": null,
       "max_width": null,
       "min_height": null,
       "min_width": null,
       "object_fit": null,
       "object_position": null,
       "order": null,
       "overflow": null,
       "overflow_x": null,
       "overflow_y": null,
       "padding": null,
       "right": null,
       "top": null,
       "visibility": null,
       "width": null
      }
     },
     "522494df66b946a0b3e34b1d68ff22aa": {
      "model_module": "@jupyter-widgets/base",
      "model_module_version": "1.2.0",
      "model_name": "LayoutModel",
      "state": {
       "_model_module": "@jupyter-widgets/base",
       "_model_module_version": "1.2.0",
       "_model_name": "LayoutModel",
       "_view_count": null,
       "_view_module": "@jupyter-widgets/base",
       "_view_module_version": "1.2.0",
       "_view_name": "LayoutView",
       "align_content": null,
       "align_items": null,
       "align_self": null,
       "border": null,
       "bottom": null,
       "display": null,
       "flex": null,
       "flex_flow": null,
       "grid_area": null,
       "grid_auto_columns": null,
       "grid_auto_flow": null,
       "grid_auto_rows": null,
       "grid_column": null,
       "grid_gap": null,
       "grid_row": null,
       "grid_template_areas": null,
       "grid_template_columns": null,
       "grid_template_rows": null,
       "height": null,
       "justify_content": null,
       "justify_items": null,
       "left": null,
       "margin": null,
       "max_height": null,
       "max_width": null,
       "min_height": null,
       "min_width": null,
       "object_fit": null,
       "object_position": null,
       "order": null,
       "overflow": null,
       "overflow_x": null,
       "overflow_y": null,
       "padding": null,
       "right": null,
       "top": null,
       "visibility": null,
       "width": null
      }
     },
     "56feb7857a0e457685bdee5248e6f200": {
      "model_module": "@jupyter-widgets/base",
      "model_module_version": "1.2.0",
      "model_name": "LayoutModel",
      "state": {
       "_model_module": "@jupyter-widgets/base",
       "_model_module_version": "1.2.0",
       "_model_name": "LayoutModel",
       "_view_count": null,
       "_view_module": "@jupyter-widgets/base",
       "_view_module_version": "1.2.0",
       "_view_name": "LayoutView",
       "align_content": null,
       "align_items": null,
       "align_self": null,
       "border": null,
       "bottom": null,
       "display": null,
       "flex": null,
       "flex_flow": null,
       "grid_area": null,
       "grid_auto_columns": null,
       "grid_auto_flow": null,
       "grid_auto_rows": null,
       "grid_column": null,
       "grid_gap": null,
       "grid_row": null,
       "grid_template_areas": null,
       "grid_template_columns": null,
       "grid_template_rows": null,
       "height": null,
       "justify_content": null,
       "justify_items": null,
       "left": null,
       "margin": null,
       "max_height": null,
       "max_width": null,
       "min_height": null,
       "min_width": null,
       "object_fit": null,
       "object_position": null,
       "order": null,
       "overflow": null,
       "overflow_x": null,
       "overflow_y": null,
       "padding": null,
       "right": null,
       "top": null,
       "visibility": null,
       "width": null
      }
     },
     "6dd6332064a04fa08bf0436efcf443ce": {
      "model_module": "@jupyter-widgets/controls",
      "model_module_version": "1.5.0",
      "model_name": "DescriptionStyleModel",
      "state": {
       "_model_module": "@jupyter-widgets/controls",
       "_model_module_version": "1.5.0",
       "_model_name": "DescriptionStyleModel",
       "_view_count": null,
       "_view_module": "@jupyter-widgets/base",
       "_view_module_version": "1.2.0",
       "_view_name": "StyleView",
       "description_width": ""
      }
     },
     "6e834ebae2cc43e8ad74ea2b941c3835": {
      "model_module": "@jupyter-widgets/controls",
      "model_module_version": "1.5.0",
      "model_name": "DescriptionStyleModel",
      "state": {
       "_model_module": "@jupyter-widgets/controls",
       "_model_module_version": "1.5.0",
       "_model_name": "DescriptionStyleModel",
       "_view_count": null,
       "_view_module": "@jupyter-widgets/base",
       "_view_module_version": "1.2.0",
       "_view_name": "StyleView",
       "description_width": ""
      }
     },
     "7c77a708d8524c7f826d88e3b743076d": {
      "model_module": "@jupyter-widgets/base",
      "model_module_version": "1.2.0",
      "model_name": "LayoutModel",
      "state": {
       "_model_module": "@jupyter-widgets/base",
       "_model_module_version": "1.2.0",
       "_model_name": "LayoutModel",
       "_view_count": null,
       "_view_module": "@jupyter-widgets/base",
       "_view_module_version": "1.2.0",
       "_view_name": "LayoutView",
       "align_content": null,
       "align_items": null,
       "align_self": null,
       "border": null,
       "bottom": null,
       "display": null,
       "flex": null,
       "flex_flow": null,
       "grid_area": null,
       "grid_auto_columns": null,
       "grid_auto_flow": null,
       "grid_auto_rows": null,
       "grid_column": null,
       "grid_gap": null,
       "grid_row": null,
       "grid_template_areas": null,
       "grid_template_columns": null,
       "grid_template_rows": null,
       "height": null,
       "justify_content": null,
       "justify_items": null,
       "left": null,
       "margin": null,
       "max_height": null,
       "max_width": null,
       "min_height": null,
       "min_width": null,
       "object_fit": null,
       "object_position": null,
       "order": null,
       "overflow": null,
       "overflow_x": null,
       "overflow_y": null,
       "padding": null,
       "right": null,
       "top": null,
       "visibility": null,
       "width": null
      }
     },
     "85985a617a364dac863831bbd5e4862b": {
      "model_module": "@jupyter-widgets/base",
      "model_module_version": "1.2.0",
      "model_name": "LayoutModel",
      "state": {
       "_model_module": "@jupyter-widgets/base",
       "_model_module_version": "1.2.0",
       "_model_name": "LayoutModel",
       "_view_count": null,
       "_view_module": "@jupyter-widgets/base",
       "_view_module_version": "1.2.0",
       "_view_name": "LayoutView",
       "align_content": null,
       "align_items": null,
       "align_self": null,
       "border": null,
       "bottom": null,
       "display": null,
       "flex": null,
       "flex_flow": null,
       "grid_area": null,
       "grid_auto_columns": null,
       "grid_auto_flow": null,
       "grid_auto_rows": null,
       "grid_column": null,
       "grid_gap": null,
       "grid_row": null,
       "grid_template_areas": null,
       "grid_template_columns": null,
       "grid_template_rows": null,
       "height": null,
       "justify_content": null,
       "justify_items": null,
       "left": null,
       "margin": null,
       "max_height": null,
       "max_width": null,
       "min_height": null,
       "min_width": null,
       "object_fit": null,
       "object_position": null,
       "order": null,
       "overflow": null,
       "overflow_x": null,
       "overflow_y": null,
       "padding": null,
       "right": null,
       "top": null,
       "visibility": null,
       "width": null
      }
     },
     "8e70e50513534b37b0f5bdb8162fac63": {
      "model_module": "@jupyter-widgets/base",
      "model_module_version": "1.2.0",
      "model_name": "LayoutModel",
      "state": {
       "_model_module": "@jupyter-widgets/base",
       "_model_module_version": "1.2.0",
       "_model_name": "LayoutModel",
       "_view_count": null,
       "_view_module": "@jupyter-widgets/base",
       "_view_module_version": "1.2.0",
       "_view_name": "LayoutView",
       "align_content": null,
       "align_items": null,
       "align_self": null,
       "border": null,
       "bottom": null,
       "display": null,
       "flex": null,
       "flex_flow": null,
       "grid_area": null,
       "grid_auto_columns": null,
       "grid_auto_flow": null,
       "grid_auto_rows": null,
       "grid_column": null,
       "grid_gap": null,
       "grid_row": null,
       "grid_template_areas": null,
       "grid_template_columns": null,
       "grid_template_rows": null,
       "height": null,
       "justify_content": null,
       "justify_items": null,
       "left": null,
       "margin": null,
       "max_height": null,
       "max_width": null,
       "min_height": null,
       "min_width": null,
       "object_fit": null,
       "object_position": null,
       "order": null,
       "overflow": null,
       "overflow_x": null,
       "overflow_y": null,
       "padding": null,
       "right": null,
       "top": null,
       "visibility": null,
       "width": null
      }
     },
     "97db31d4ca144301aa9402bab8b2cc7e": {
      "model_module": "@jupyter-widgets/controls",
      "model_module_version": "1.5.0",
      "model_name": "HTMLModel",
      "state": {
       "_dom_classes": [],
       "_model_module": "@jupyter-widgets/controls",
       "_model_module_version": "1.5.0",
       "_model_name": "HTMLModel",
       "_view_count": null,
       "_view_module": "@jupyter-widgets/controls",
       "_view_module_version": "1.5.0",
       "_view_name": "HTMLView",
       "description": "",
       "description_tooltip": null,
       "layout": "IPY_MODEL_522494df66b946a0b3e34b1d68ff22aa",
       "placeholder": "​",
       "style": "IPY_MODEL_c221f4a6bd534443a6f1ef24b8c4757a",
       "value": "Downloading (…)lve/main/config.json: 100%"
      }
     },
     "9b142a3797c243789a7cc6afc5726174": {
      "model_module": "@jupyter-widgets/controls",
      "model_module_version": "1.5.0",
      "model_name": "DescriptionStyleModel",
      "state": {
       "_model_module": "@jupyter-widgets/controls",
       "_model_module_version": "1.5.0",
       "_model_name": "DescriptionStyleModel",
       "_view_count": null,
       "_view_module": "@jupyter-widgets/base",
       "_view_module_version": "1.2.0",
       "_view_name": "StyleView",
       "description_width": ""
      }
     },
     "9dd3d7167d864615ae27cb2d59738edc": {
      "model_module": "@jupyter-widgets/controls",
      "model_module_version": "1.5.0",
      "model_name": "FloatProgressModel",
      "state": {
       "_dom_classes": [],
       "_model_module": "@jupyter-widgets/controls",
       "_model_module_version": "1.5.0",
       "_model_name": "FloatProgressModel",
       "_view_count": null,
       "_view_module": "@jupyter-widgets/controls",
       "_view_module_version": "1.5.0",
       "_view_name": "ProgressView",
       "bar_style": "success",
       "description": "",
       "description_tooltip": null,
       "layout": "IPY_MODEL_49835e68d4cc413cbd7ff935f7b6ce1c",
       "max": 2464616.0,
       "min": 0.0,
       "orientation": "horizontal",
       "style": "IPY_MODEL_37b4e75184854357946d7180ce35e169",
       "value": 2464616.0
      }
     },
     "9fb41ab5c7114fc2ae6540969120ba03": {
      "model_module": "@jupyter-widgets/controls",
      "model_module_version": "1.5.0",
      "model_name": "DescriptionStyleModel",
      "state": {
       "_model_module": "@jupyter-widgets/controls",
       "_model_module_version": "1.5.0",
       "_model_name": "DescriptionStyleModel",
       "_view_count": null,
       "_view_module": "@jupyter-widgets/base",
       "_view_module_version": "1.2.0",
       "_view_name": "StyleView",
       "description_width": ""
      }
     },
     "a691c7203c804991a6ee7afc6eead384": {
      "model_module": "@jupyter-widgets/base",
      "model_module_version": "1.2.0",
      "model_name": "LayoutModel",
      "state": {
       "_model_module": "@jupyter-widgets/base",
       "_model_module_version": "1.2.0",
       "_model_name": "LayoutModel",
       "_view_count": null,
       "_view_module": "@jupyter-widgets/base",
       "_view_module_version": "1.2.0",
       "_view_name": "LayoutView",
       "align_content": null,
       "align_items": null,
       "align_self": null,
       "border": null,
       "bottom": null,
       "display": null,
       "flex": null,
       "flex_flow": null,
       "grid_area": null,
       "grid_auto_columns": null,
       "grid_auto_flow": null,
       "grid_auto_rows": null,
       "grid_column": null,
       "grid_gap": null,
       "grid_row": null,
       "grid_template_areas": null,
       "grid_template_columns": null,
       "grid_template_rows": null,
       "height": null,
       "justify_content": null,
       "justify_items": null,
       "left": null,
       "margin": null,
       "max_height": null,
       "max_width": null,
       "min_height": null,
       "min_width": null,
       "object_fit": null,
       "object_position": null,
       "order": null,
       "overflow": null,
       "overflow_x": null,
       "overflow_y": null,
       "padding": null,
       "right": null,
       "top": null,
       "visibility": null,
       "width": null
      }
     },
     "a827f7f0380548ec8d68111b0d4616a5": {
      "model_module": "@jupyter-widgets/controls",
      "model_module_version": "1.5.0",
      "model_name": "HBoxModel",
      "state": {
       "_dom_classes": [],
       "_model_module": "@jupyter-widgets/controls",
       "_model_module_version": "1.5.0",
       "_model_name": "HBoxModel",
       "_view_count": null,
       "_view_module": "@jupyter-widgets/controls",
       "_view_module_version": "1.5.0",
       "_view_name": "HBoxView",
       "box_style": "",
       "children": [
        "IPY_MODEL_4244e75b0b714523887845c13c79ab40",
        "IPY_MODEL_ab1f44ddd5d841229d1789fc297c9f72",
        "IPY_MODEL_ac3ddc33e727420f9ce032795e808b74"
       ],
       "layout": "IPY_MODEL_2909946d33084a95a4d524f09210c9dd"
      }
     },
     "a9f4ce2f26174cf9a452eb77c97eedf1": {
      "model_module": "@jupyter-widgets/controls",
      "model_module_version": "1.5.0",
      "model_name": "HTMLModel",
      "state": {
       "_dom_classes": [],
       "_model_module": "@jupyter-widgets/controls",
       "_model_module_version": "1.5.0",
       "_model_name": "HTMLModel",
       "_view_count": null,
       "_view_module": "@jupyter-widgets/controls",
       "_view_module_version": "1.5.0",
       "_view_name": "HTMLView",
       "description": "",
       "description_tooltip": null,
       "layout": "IPY_MODEL_222b818056e143238da0ba88999b14ae",
       "placeholder": "​",
       "style": "IPY_MODEL_6e834ebae2cc43e8ad74ea2b941c3835",
       "value": "Downloading spm.model: 100%"
      }
     },
     "ab1f44ddd5d841229d1789fc297c9f72": {
      "model_module": "@jupyter-widgets/controls",
      "model_module_version": "1.5.0",
      "model_name": "FloatProgressModel",
      "state": {
       "_dom_classes": [],
       "_model_module": "@jupyter-widgets/controls",
       "_model_module_version": "1.5.0",
       "_model_name": "FloatProgressModel",
       "_view_count": null,
       "_view_module": "@jupyter-widgets/controls",
       "_view_module_version": "1.5.0",
       "_view_name": "ProgressView",
       "bar_style": "success",
       "description": "",
       "description_tooltip": null,
       "layout": "IPY_MODEL_45621994932d4ae68d54b89a7fe16923",
       "max": 371146213.0,
       "min": 0.0,
       "orientation": "horizontal",
       "style": "IPY_MODEL_3c76896a8a514fe2856377f513bcc74e",
       "value": 371146213.0
      }
     },
     "abfb469ea2294ae4b8d4090225a83c1f": {
      "model_module": "@jupyter-widgets/controls",
      "model_module_version": "1.5.0",
      "model_name": "HTMLModel",
      "state": {
       "_dom_classes": [],
       "_model_module": "@jupyter-widgets/controls",
       "_model_module_version": "1.5.0",
       "_model_name": "HTMLModel",
       "_view_count": null,
       "_view_module": "@jupyter-widgets/controls",
       "_view_module_version": "1.5.0",
       "_view_name": "HTMLView",
       "description": "",
       "description_tooltip": null,
       "layout": "IPY_MODEL_8e70e50513534b37b0f5bdb8162fac63",
       "placeholder": "​",
       "style": "IPY_MODEL_1e6d8e9c47104af4902082507cba6b3a",
       "value": "Downloading (…)okenizer_config.json: 100%"
      }
     },
     "ac3ddc33e727420f9ce032795e808b74": {
      "model_module": "@jupyter-widgets/controls",
      "model_module_version": "1.5.0",
      "model_name": "HTMLModel",
      "state": {
       "_dom_classes": [],
       "_model_module": "@jupyter-widgets/controls",
       "_model_module_version": "1.5.0",
       "_model_name": "HTMLModel",
       "_view_count": null,
       "_view_module": "@jupyter-widgets/controls",
       "_view_module_version": "1.5.0",
       "_view_name": "HTMLView",
       "description": "",
       "description_tooltip": null,
       "layout": "IPY_MODEL_05c8cf267bdf4c598ba320d4d54ff258",
       "placeholder": "​",
       "style": "IPY_MODEL_9fb41ab5c7114fc2ae6540969120ba03",
       "value": " 371M/371M [00:05&lt;00:00, 78.9MB/s]"
      }
     },
     "b71324d787894f40a463e0dc0be27ec5": {
      "model_module": "@jupyter-widgets/controls",
      "model_module_version": "1.5.0",
      "model_name": "FloatProgressModel",
      "state": {
       "_dom_classes": [],
       "_model_module": "@jupyter-widgets/controls",
       "_model_module_version": "1.5.0",
       "_model_name": "FloatProgressModel",
       "_view_count": null,
       "_view_module": "@jupyter-widgets/controls",
       "_view_module_version": "1.5.0",
       "_view_name": "ProgressView",
       "bar_style": "success",
       "description": "",
       "description_tooltip": null,
       "layout": "IPY_MODEL_85985a617a364dac863831bbd5e4862b",
       "max": 52.0,
       "min": 0.0,
       "orientation": "horizontal",
       "style": "IPY_MODEL_c344170f295644fbb7633d5c7361670b",
       "value": 52.0
      }
     },
     "c221f4a6bd534443a6f1ef24b8c4757a": {
      "model_module": "@jupyter-widgets/controls",
      "model_module_version": "1.5.0",
      "model_name": "DescriptionStyleModel",
      "state": {
       "_model_module": "@jupyter-widgets/controls",
       "_model_module_version": "1.5.0",
       "_model_name": "DescriptionStyleModel",
       "_view_count": null,
       "_view_module": "@jupyter-widgets/base",
       "_view_module_version": "1.2.0",
       "_view_name": "StyleView",
       "description_width": ""
      }
     },
     "c344170f295644fbb7633d5c7361670b": {
      "model_module": "@jupyter-widgets/controls",
      "model_module_version": "1.5.0",
      "model_name": "ProgressStyleModel",
      "state": {
       "_model_module": "@jupyter-widgets/controls",
       "_model_module_version": "1.5.0",
       "_model_name": "ProgressStyleModel",
       "_view_count": null,
       "_view_module": "@jupyter-widgets/base",
       "_view_module_version": "1.2.0",
       "_view_name": "StyleView",
       "bar_color": null,
       "description_width": ""
      }
     },
     "c6b6c41197474bfc839419a2d694aec4": {
      "model_module": "@jupyter-widgets/controls",
      "model_module_version": "1.5.0",
      "model_name": "DescriptionStyleModel",
      "state": {
       "_model_module": "@jupyter-widgets/controls",
       "_model_module_version": "1.5.0",
       "_model_name": "DescriptionStyleModel",
       "_view_count": null,
       "_view_module": "@jupyter-widgets/base",
       "_view_module_version": "1.2.0",
       "_view_name": "StyleView",
       "description_width": ""
      }
     },
     "c77c272f930e4738ba06c049da32696a": {
      "model_module": "@jupyter-widgets/base",
      "model_module_version": "1.2.0",
      "model_name": "LayoutModel",
      "state": {
       "_model_module": "@jupyter-widgets/base",
       "_model_module_version": "1.2.0",
       "_model_name": "LayoutModel",
       "_view_count": null,
       "_view_module": "@jupyter-widgets/base",
       "_view_module_version": "1.2.0",
       "_view_name": "LayoutView",
       "align_content": null,
       "align_items": null,
       "align_self": null,
       "border": null,
       "bottom": null,
       "display": null,
       "flex": null,
       "flex_flow": null,
       "grid_area": null,
       "grid_auto_columns": null,
       "grid_auto_flow": null,
       "grid_auto_rows": null,
       "grid_column": null,
       "grid_gap": null,
       "grid_row": null,
       "grid_template_areas": null,
       "grid_template_columns": null,
       "grid_template_rows": null,
       "height": null,
       "justify_content": null,
       "justify_items": null,
       "left": null,
       "margin": null,
       "max_height": null,
       "max_width": null,
       "min_height": null,
       "min_width": null,
       "object_fit": null,
       "object_position": null,
       "order": null,
       "overflow": null,
       "overflow_x": null,
       "overflow_y": null,
       "padding": null,
       "right": null,
       "top": null,
       "visibility": null,
       "width": null
      }
     },
     "cc7615511d854f3b92f201a6464f9f36": {
      "model_module": "@jupyter-widgets/controls",
      "model_module_version": "1.5.0",
      "model_name": "HTMLModel",
      "state": {
       "_dom_classes": [],
       "_model_module": "@jupyter-widgets/controls",
       "_model_module_version": "1.5.0",
       "_model_name": "HTMLModel",
       "_view_count": null,
       "_view_module": "@jupyter-widgets/controls",
       "_view_module_version": "1.5.0",
       "_view_name": "HTMLView",
       "description": "",
       "description_tooltip": null,
       "layout": "IPY_MODEL_45544b6ee47e4da6bb65b2bf83358dd7",
       "placeholder": "​",
       "style": "IPY_MODEL_9b142a3797c243789a7cc6afc5726174",
       "value": " 579/579 [00:00&lt;00:00, 13.8kB/s]"
      }
     },
     "cdefb97e3aa74b75b1d1ea5b0b2cb568": {
      "model_module": "@jupyter-widgets/controls",
      "model_module_version": "1.5.0",
      "model_name": "HTMLModel",
      "state": {
       "_dom_classes": [],
       "_model_module": "@jupyter-widgets/controls",
       "_model_module_version": "1.5.0",
       "_model_name": "HTMLModel",
       "_view_count": null,
       "_view_module": "@jupyter-widgets/controls",
       "_view_module_version": "1.5.0",
       "_view_name": "HTMLView",
       "description": "",
       "description_tooltip": null,
       "layout": "IPY_MODEL_c77c272f930e4738ba06c049da32696a",
       "placeholder": "​",
       "style": "IPY_MODEL_6dd6332064a04fa08bf0436efcf443ce",
       "value": " 52.0/52.0 [00:00&lt;00:00, 1.37kB/s]"
      }
     },
     "d96c8b68b25a471bb405388fba131597": {
      "model_module": "@jupyter-widgets/controls",
      "model_module_version": "1.5.0",
      "model_name": "HTMLModel",
      "state": {
       "_dom_classes": [],
       "_model_module": "@jupyter-widgets/controls",
       "_model_module_version": "1.5.0",
       "_model_name": "HTMLModel",
       "_view_count": null,
       "_view_module": "@jupyter-widgets/controls",
       "_view_module_version": "1.5.0",
       "_view_name": "HTMLView",
       "description": "",
       "description_tooltip": null,
       "layout": "IPY_MODEL_4c29b851b6cb4c6f9d1df018a127b6b6",
       "placeholder": "​",
       "style": "IPY_MODEL_c6b6c41197474bfc839419a2d694aec4",
       "value": " 2.46M/2.46M [00:00&lt;00:00, 46.0MB/s]"
      }
     },
     "e16b30f5967747a585735777c5db080b": {
      "model_module": "@jupyter-widgets/controls",
      "model_module_version": "1.5.0",
      "model_name": "HBoxModel",
      "state": {
       "_dom_classes": [],
       "_model_module": "@jupyter-widgets/controls",
       "_model_module_version": "1.5.0",
       "_model_name": "HBoxModel",
       "_view_count": null,
       "_view_module": "@jupyter-widgets/controls",
       "_view_module_version": "1.5.0",
       "_view_name": "HBoxView",
       "box_style": "",
       "children": [
        "IPY_MODEL_abfb469ea2294ae4b8d4090225a83c1f",
        "IPY_MODEL_b71324d787894f40a463e0dc0be27ec5",
        "IPY_MODEL_cdefb97e3aa74b75b1d1ea5b0b2cb568"
       ],
       "layout": "IPY_MODEL_0815b03b628e44679a9e8f8a913fb961"
      }
     },
     "e2b7eb9eec4e46e597afa7ee3765bb39": {
      "model_module": "@jupyter-widgets/controls",
      "model_module_version": "1.5.0",
      "model_name": "HBoxModel",
      "state": {
       "_dom_classes": [],
       "_model_module": "@jupyter-widgets/controls",
       "_model_module_version": "1.5.0",
       "_model_name": "HBoxModel",
       "_view_count": null,
       "_view_module": "@jupyter-widgets/controls",
       "_view_module_version": "1.5.0",
       "_view_name": "HBoxView",
       "box_style": "",
       "children": [
        "IPY_MODEL_97db31d4ca144301aa9402bab8b2cc7e",
        "IPY_MODEL_1df2c11aa031469cb6bc42c0177a286b",
        "IPY_MODEL_cc7615511d854f3b92f201a6464f9f36"
       ],
       "layout": "IPY_MODEL_56feb7857a0e457685bdee5248e6f200"
      }
     },
     "e8b277160c1443a489af2b99a8806c80": {
      "model_module": "@jupyter-widgets/base",
      "model_module_version": "1.2.0",
      "model_name": "LayoutModel",
      "state": {
       "_model_module": "@jupyter-widgets/base",
       "_model_module_version": "1.2.0",
       "_model_name": "LayoutModel",
       "_view_count": null,
       "_view_module": "@jupyter-widgets/base",
       "_view_module_version": "1.2.0",
       "_view_name": "LayoutView",
       "align_content": null,
       "align_items": null,
       "align_self": null,
       "border": null,
       "bottom": null,
       "display": null,
       "flex": null,
       "flex_flow": null,
       "grid_area": null,
       "grid_auto_columns": null,
       "grid_auto_flow": null,
       "grid_auto_rows": null,
       "grid_column": null,
       "grid_gap": null,
       "grid_row": null,
       "grid_template_areas": null,
       "grid_template_columns": null,
       "grid_template_rows": null,
       "height": null,
       "justify_content": null,
       "justify_items": null,
       "left": null,
       "margin": null,
       "max_height": null,
       "max_width": null,
       "min_height": null,
       "min_width": null,
       "object_fit": null,
       "object_position": null,
       "order": null,
       "overflow": null,
       "overflow_x": null,
       "overflow_y": null,
       "padding": null,
       "right": null,
       "top": null,
       "visibility": null,
       "width": null
      }
     },
     "f6c1fd24fe974272ae38dbfa64bf82e1": {
      "model_module": "@jupyter-widgets/controls",
      "model_module_version": "1.5.0",
      "model_name": "HBoxModel",
      "state": {
       "_dom_classes": [],
       "_model_module": "@jupyter-widgets/controls",
       "_model_module_version": "1.5.0",
       "_model_name": "HBoxModel",
       "_view_count": null,
       "_view_module": "@jupyter-widgets/controls",
       "_view_module_version": "1.5.0",
       "_view_name": "HBoxView",
       "box_style": "",
       "children": [
        "IPY_MODEL_a9f4ce2f26174cf9a452eb77c97eedf1",
        "IPY_MODEL_9dd3d7167d864615ae27cb2d59738edc",
        "IPY_MODEL_d96c8b68b25a471bb405388fba131597"
       ],
       "layout": "IPY_MODEL_a691c7203c804991a6ee7afc6eead384"
      }
     }
    },
    "version_major": 2,
    "version_minor": 0
   }
  }
 },
 "nbformat": 4,
 "nbformat_minor": 5
}
